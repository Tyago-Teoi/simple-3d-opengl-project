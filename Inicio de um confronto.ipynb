{
 "cells": [
  {
   "cell_type": "markdown",
   "metadata": {},
   "source": [
    "#### Grupo:\n",
    "César Augusto Lima - 9771525<br>\n",
    "Igor Antunes Boson Paes - 11200571<br>\n",
    "Tyago Yuji Teoi - 10299660<br>\n",
    "\n",
    "#### Controles no teclado:\n",
    "##### Movimentação:\n",
    "W para cima<br>\n",
    "A para a esquerda<br>\n",
    "D para a direita<br>\n",
    "S para baixo<br>\n",
    "MOUSE\n"
   ]
  },
  {
   "cell_type": "markdown",
   "metadata": {},
   "source": [
    "### Instalação de bibliotecas"
   ]
  },
  {
   "cell_type": "code",
   "execution_count": 1,
   "metadata": {},
   "outputs": [],
   "source": [
    "#!pip install glfw\n",
    "#!pip install PyOpenGL\n",
    "#!pip install PyGLM"
   ]
  },
  {
   "cell_type": "markdown",
   "metadata": {},
   "source": [
    "### Primeiro, importamos as bibliotecas necessárias.\n",
    "Verifique no código anterior um script para instalar as dependências necessárias (OpenGL e GLFW) antes de prosseguir."
   ]
  },
  {
   "cell_type": "code",
   "execution_count": 2,
   "metadata": {},
   "outputs": [],
   "source": [
    "import glfw\n",
    "from OpenGL.GL import *\n",
    "import OpenGL.GL.shaders\n",
    "import numpy as np\n",
    "import glm\n",
    "import math\n",
    "from PIL import Image"
   ]
  },
  {
   "cell_type": "markdown",
   "metadata": {},
   "source": [
    "### Inicializando janela"
   ]
  },
  {
   "cell_type": "code",
   "execution_count": 3,
   "metadata": {},
   "outputs": [],
   "source": [
    "glfw.init()\n",
    "glfw.window_hint(glfw.VISIBLE, glfw.FALSE);\n",
    "altura = 1600\n",
    "largura = 1200\n",
    "window = glfw.create_window(largura, altura, \"Malhas e Texturas\", None, None)\n",
    "glfw.make_context_current(window)"
   ]
  },
  {
   "cell_type": "markdown",
   "metadata": {},
   "source": [
    "### GLSL (OpenGL Shading Language)\n",
    "\n",
    "Aqui veremos nosso primeiro código GLSL.\n",
    "\n",
    "É uma linguagem de shading de alto nível baseada na linguagem de programação C.\n",
    "\n",
    "Estamos escrevendo código GLSL como se \"strings\" de uma variável (mas podemos ler de arquivos texto). Esse código, depois, terá que ser compilado e linkado ao nosso programa. \n",
    "\n",
    "Aprenderemos GLSL conforme a necessidade do curso. Usaremos uma versão do GLSL mais antiga, compatível com muitos dispositivos."
   ]
  },
  {
   "cell_type": "markdown",
   "metadata": {},
   "source": [
    "### GLSL para Vertex Shader\n",
    "\n",
    "No Pipeline programável, podemos interagir com Vertex Shaders.\n",
    "\n",
    "No código abaixo, estamos fazendo o seguinte:\n",
    "\n",
    "* Definindo uma variável chamada position do tipo vec3.\n",
    "* Definindo matrizes Model, View e Projection que acumulam transformações geométricas 3D e permitem navegação no cenário.\n",
    "* void main() é o ponto de entrada do nosso programa (função principal).\n",
    "* gl_Position é uma variável especial do GLSL. Variáveis que começam com 'gl_' são desse tipo. Nesse caso, determina a posição de um vértice. Observe que todo vértice tem 4 coordenadas, por isso combinamos nossa variável vec2 com uma variável vec4. Além disso, modificamos nosso vetor com base nas transformações Model, View e Projection."
   ]
  },
  {
   "cell_type": "code",
   "execution_count": 4,
   "metadata": {},
   "outputs": [],
   "source": [
    "vertex_code = \"\"\"\n",
    "        attribute vec3 position;\n",
    "        attribute vec2 texture_coord;\n",
    "        attribute vec3 normals;\n",
    "        \n",
    "       \n",
    "        varying vec2 out_texture;\n",
    "        varying vec3 out_fragPos;\n",
    "        varying vec3 out_normal;\n",
    "                \n",
    "        uniform mat4 model;\n",
    "        uniform mat4 view;\n",
    "        uniform mat4 projection;        \n",
    "        \n",
    "        void main(){\n",
    "            gl_Position = projection * view * model * vec4(position,1.0);\n",
    "            out_texture = vec2(texture_coord);\n",
    "            out_fragPos = vec3(  model * vec4(position, 1.0));\n",
    "            out_normal = vec3( model *vec4(normals, 1.0));            \n",
    "        }\n",
    "        \"\"\""
   ]
  },
  {
   "cell_type": "markdown",
   "metadata": {},
   "source": [
    "### GLSL para Fragment Shader\n",
    "\n",
    "No Pipeline programável, podemos interagir com Fragment Shaders.\n",
    "\n",
    "No código abaixo, estamos fazendo o seguinte:\n",
    "\n",
    "* void main() é o ponto de entrada do nosso programa (função principal).\n",
    "* gl_FragColor é uma variável especial do GLSL. Variáveis que começam com 'gl_' são desse tipo. Nesse caso, determina a cor de um fragmento. Nesse caso é um ponto, mas poderia ser outro objeto (ponto, linha, triangulos, etc)."
   ]
  },
  {
   "cell_type": "markdown",
   "metadata": {},
   "source": [
    "### Possibilitando modificar a cor.\n",
    "\n",
    "Nos exemplos anteriores, a variável gl_FragColor estava definida de forma fixa (com cor R=0, G=0, B=0).\n",
    "\n",
    "Agora, criaremos uma variável do tipo \"uniform\", de quatro posições (vec4), para receber o dado de cor do nosso programa rodando em CPU."
   ]
  },
  {
   "cell_type": "code",
   "execution_count": 5,
   "metadata": {},
   "outputs": [],
   "source": [
    "fragment_code = \"\"\"\n",
    "\n",
    "        // parametro com a cor da(s) fonte(s) de iluminacao\n",
    "        uniform vec3 lightPos; // define coordenadas de posicao da luz\n",
    "        vec3 lightColor = vec3(1.0, 1.0, 1.0);\n",
    "        \n",
    "        // parametros da iluminacao ambiente e difusa\n",
    "        uniform float ka; // coeficiente de reflexao ambiente\n",
    "        uniform float kd; // coeficiente de reflexao difusa\n",
    "        \n",
    "        // parametros da iluminacao especular\n",
    "        uniform vec3 viewPos; // define coordenadas com a posicao da camera/observador\n",
    "        uniform float ks; // coeficiente de reflexao especular\n",
    "        uniform float ns; // expoente de reflexao especular\n",
    "        \n",
    "\n",
    "\n",
    "        // parametros recebidos do vertex shader\n",
    "        varying vec2 out_texture; // recebido do vertex shader\n",
    "        varying vec3 out_normal; // recebido do vertex shader\n",
    "        varying vec3 out_fragPos; // recebido do vertex shader\n",
    "        uniform sampler2D samplerTexture;\n",
    "        \n",
    "        \n",
    "        \n",
    "        void main(){\n",
    "        \n",
    "            // calculando reflexao ambiente\n",
    "            vec3 ambient = ka * lightColor;             \n",
    "        \n",
    "            // calculando reflexao difusa\n",
    "            vec3 norm = normalize(out_normal); // normaliza vetores perpendiculares\n",
    "            vec3 lightDir = normalize(lightPos - out_fragPos); // direcao da luz\n",
    "            float diff = max(dot(norm, lightDir), 0.0); // verifica limite angular (entre 0 e 90)\n",
    "            vec3 diffuse = kd * diff * lightColor; // iluminacao difusa\n",
    "            \n",
    "            // calculando reflexao especular\n",
    "            vec3 viewDir = normalize(viewPos - out_fragPos); // direcao do observador/camera\n",
    "            vec3 reflectDir = normalize(reflect(-lightDir, norm)); // direcao da reflexao\n",
    "            float spec = pow(max(dot(viewDir, reflectDir), 0.0), ns);\n",
    "            vec3 specular = ks * spec * lightColor;             \n",
    "            \n",
    "            // aplicando o modelo de iluminacao\n",
    "            vec4 texture = texture2D(samplerTexture, out_texture);\n",
    "            vec4 result = vec4((ambient + diffuse + specular),1.0) * texture; // aplica iluminacao\n",
    "            gl_FragColor = result;\n",
    "\n",
    "        }\n",
    "        \"\"\""
   ]
  },
  {
   "cell_type": "markdown",
   "metadata": {},
   "source": [
    "### Requisitando slot para a GPU para nossos programas Vertex e Fragment Shaders"
   ]
  },
  {
   "cell_type": "code",
   "execution_count": 6,
   "metadata": {},
   "outputs": [],
   "source": [
    "# Request a program and shader slots from GPU\n",
    "program  = glCreateProgram()\n",
    "vertex   = glCreateShader(GL_VERTEX_SHADER)\n",
    "fragment = glCreateShader(GL_FRAGMENT_SHADER)"
   ]
  },
  {
   "cell_type": "markdown",
   "metadata": {},
   "source": [
    "### Associando nosso código-fonte aos slots solicitados"
   ]
  },
  {
   "cell_type": "code",
   "execution_count": 7,
   "metadata": {},
   "outputs": [],
   "source": [
    "# Set shaders source\n",
    "glShaderSource(vertex, vertex_code)\n",
    "glShaderSource(fragment, fragment_code)"
   ]
  },
  {
   "cell_type": "markdown",
   "metadata": {},
   "source": [
    "### Compilando o Vertex Shader\n",
    "\n",
    "Se há algum erro em nosso programa Vertex Shader, nosso app para por aqui."
   ]
  },
  {
   "cell_type": "code",
   "execution_count": 8,
   "metadata": {},
   "outputs": [],
   "source": [
    "# Compile shaders\n",
    "glCompileShader(vertex)\n",
    "if not glGetShaderiv(vertex, GL_COMPILE_STATUS):\n",
    "    error = glGetShaderInfoLog(vertex).decode()\n",
    "    print(error)\n",
    "    raise RuntimeError(\"Erro de compilacao do Vertex Shader\")"
   ]
  },
  {
   "cell_type": "markdown",
   "metadata": {},
   "source": [
    "### Compilando o Fragment Shader\n",
    "\n",
    "Se há algum erro em nosso programa Fragment Shader, nosso app para por aqui."
   ]
  },
  {
   "cell_type": "code",
   "execution_count": 9,
   "metadata": {},
   "outputs": [],
   "source": [
    "glCompileShader(fragment)\n",
    "if not glGetShaderiv(fragment, GL_COMPILE_STATUS):\n",
    "    error = glGetShaderInfoLog(fragment).decode()\n",
    "    print(error)\n",
    "    raise RuntimeError(\"Erro de compilacao do Fragment Shader\")"
   ]
  },
  {
   "cell_type": "markdown",
   "metadata": {},
   "source": [
    "### Associando os programas compilado ao programa principal"
   ]
  },
  {
   "cell_type": "code",
   "execution_count": 10,
   "metadata": {},
   "outputs": [],
   "source": [
    "# Attach shader objects to the program\n",
    "glAttachShader(program, vertex)\n",
    "glAttachShader(program, fragment)"
   ]
  },
  {
   "cell_type": "markdown",
   "metadata": {},
   "source": [
    "### Linkagem do programa"
   ]
  },
  {
   "cell_type": "code",
   "execution_count": 11,
   "metadata": {},
   "outputs": [],
   "source": [
    "# Build program\n",
    "glLinkProgram(program)\n",
    "if not glGetProgramiv(program, GL_LINK_STATUS):\n",
    "    print(glGetProgramInfoLog(program))\n",
    "    raise RuntimeError('Linking error')\n",
    "    \n",
    "# Make program the default program\n",
    "glUseProgram(program)"
   ]
  },
  {
   "cell_type": "markdown",
   "metadata": {},
   "source": [
    "### Preparando dados para enviar a GPU\n",
    "\n",
    "Nesse momento, compilamos nossos Vertex e Program Shaders para que a GPU possa processá-los.\n",
    "\n",
    "Por outro lado, as informações de vértices geralmente estão na CPU e devem ser transmitidas para a GPU."
   ]
  },
  {
   "cell_type": "markdown",
   "metadata": {},
   "source": [
    "### Carregando Modelos (vértices e texturas) a partir de Arquivos\n",
    "\n",
    "A função abaixo carrega modelos a partir de arquivos no formato WaveFront.\n",
    "\n",
    "\n",
    "Para saber mais sobre o modelo, acesse: https://en.wikipedia.org/wiki/Wavefront_.obj_file\n",
    "\n",
    "\n",
    "Nos slides e vídeo da Aula, descrevemos o funcionamento desse formato."
   ]
  },
  {
   "cell_type": "code",
   "execution_count": 12,
   "metadata": {},
   "outputs": [],
   "source": [
    "def load_model_from_file(filename):\n",
    "    \"\"\"Loads a Wavefront OBJ file. \"\"\"\n",
    "    objects = {}\n",
    "    vertices = []\n",
    "    texture_coords = []\n",
    "    faces = []\n",
    "\n",
    "    material = None\n",
    "\n",
    "    # abre o arquivo obj para leitura\n",
    "    for line in open(filename, \"r\"): ## para cada linha do arquivo .obj\n",
    "        if line.startswith('#'): continue ## ignora comentarios\n",
    "        values = line.split() # quebra a linha por espaço\n",
    "        if not values: continue\n",
    "\n",
    "\n",
    "        ### recuperando vertices\n",
    "        if values[0] == 'v':\n",
    "            vertices.append(values[1:4])\n",
    "\n",
    "\n",
    "        ### recuperando coordenadas de textura\n",
    "        elif values[0] == 'vt':\n",
    "            texture_coords.append(values[1:3])\n",
    "\n",
    "        ### recuperando faces \n",
    "        elif values[0] in ('usemtl', 'usemat'):\n",
    "            material = values[1]\n",
    "        elif values[0] == 'f':\n",
    "            face = []\n",
    "            face_texture = []\n",
    "            for v in values[1:]:\n",
    "                w = v.split('/')\n",
    "                face.append(int(w[0]))\n",
    "                if len(w) >= 2 and len(w[1]) > 0:\n",
    "                    face_texture.append(int(w[1]))\n",
    "                else:\n",
    "                    face_texture.append(0)\n",
    "\n",
    "            faces.append((face, face_texture, material))\n",
    "\n",
    "    model = {}\n",
    "    model['vertices'] = vertices\n",
    "    model['texture'] = texture_coords\n",
    "    model['faces'] = faces\n",
    "\n",
    "    return model"
   ]
  },
  {
   "cell_type": "code",
   "execution_count": 13,
   "metadata": {},
   "outputs": [],
   "source": [
    "glEnable(GL_TEXTURE_2D)\n",
    "qtd_texturas = 10\n",
    "textures = glGenTextures(qtd_texturas)\n",
    "\n",
    "def load_texture_from_file(texture_id, img_textura):\n",
    "    glBindTexture(GL_TEXTURE_2D, texture_id)\n",
    "    glTexParameteri(GL_TEXTURE_2D, GL_TEXTURE_WRAP_S, GL_REPEAT)\n",
    "    glTexParameteri(GL_TEXTURE_2D, GL_TEXTURE_WRAP_T, GL_REPEAT)\n",
    "    glTexParameteri(GL_TEXTURE_2D, GL_TEXTURE_MIN_FILTER, GL_LINEAR)\n",
    "    glTexParameteri(GL_TEXTURE_2D, GL_TEXTURE_MAG_FILTER, GL_LINEAR)\n",
    "    img = Image.open(img_textura)\n",
    "    img_width = img.size[0]\n",
    "    img_height = img.size[1]\n",
    "    image_data = img.tobytes(\"raw\", \"RGB\", 0, -1)\n",
    "    #image_data = np.array(list(img.getdata()), np.uint8)\n",
    "    glTexImage2D(GL_TEXTURE_2D, 0, GL_RGB, img_width, img_height, 0, GL_RGB, GL_UNSIGNED_BYTE, image_data)"
   ]
  },
  {
   "cell_type": "markdown",
   "metadata": {},
   "source": [
    "### A lista abaixo armazena todos os vertices carregados dos arquivos"
   ]
  },
  {
   "cell_type": "code",
   "execution_count": 14,
   "metadata": {},
   "outputs": [],
   "source": [
    "vertices_list = []    \n",
    "textures_coord_list = []"
   ]
  },
  {
   "cell_type": "markdown",
   "metadata": {},
   "source": [
    "### Carregamos cada modelo e definimos funções para desenhá-los"
   ]
  },
  {
   "cell_type": "code",
   "execution_count": 15,
   "metadata": {},
   "outputs": [],
   "source": [
    "'''\n",
    "nomes_modelos = [\n",
    "    'objects/anime_girl/anime_character.fbx', 'objects/anime-girl/textures.jpg',\n",
    "    'caixa/caixa.obj', 'caixa/caixa2.jpg',\n",
    "    'terreno/terreno2.obj', 'terreno/pedra.jpg',\n",
    "    'casa/casa.obj', 'casa/casa.jpg',\n",
    "    'monstro/monstro.obj', 'monstro/monstro.jpg',\n",
    "    'objects/cat/12221_Cat_v1_l3.obj', 'objects/cat/Cat_bump.jpg',\n",
    "    'planta/planta_obj.obj', 'planta/planta_tex.jpg'\n",
    "]\n",
    "'''\n",
    "nomes_modelos = [\n",
    "    'objects/woodhouse/WoodHouse.obj', 'objects/woodhouse/Diffuse.png',\n",
    "    [[0,1,0], [0,-1,0], [1,1,1], [0.1,0.1,0.9,32], [0]], #0 - rotacao, translacao, escala, iluminacao e angulo\n",
    "    'objects/cat/rotatedcat.obj', 'objects/cat/Cat_bump.jpg',\n",
    "    [[1,0,0], [0.65,-0.75,0], [0.02,0.02,0.02],[0.1,0.1,0.9,32], [-90]],\n",
    "    'objects/dog/dog.obj', 'objects/dog/Australian_Cattle_Dog_dif.jpg'    ,\n",
    "    [[1,0,0], [-0.65,-0.75,0], [0.03,0.03,0.03],[0.1,0.1,0.9,32], [-90]],\n",
    "    'objects/planta/plant.obj', 'objects/planta/texture.jpg'    ,\n",
    "    [[1,0,0], [-1,-0.75,1], [0.1,0.1,0.1], [0.1,0.1,0.9,32],[0]],\n",
    "    'objects/terrain/terrain.obj', 'objects/terrain/texture.jpg',\n",
    "    [[1,0,0], [0,-3,0], [.25,.25,.25],[0.1,0.1,0.9,32], [-90]],\n",
    "    'objects/street/street.obj', 'objects/street/texture.jpg',\n",
    "    [[0,1,0], [10,-2,20], [1,1,1],[0.1,0.1,0.9,32], [0]],\n",
    "    'objects/street/street.obj', 'objects/street/texture.jpg',\n",
    "    [[0,1,0], [0,-2,20], [1,1,1],[0.1,0.1,0.9,32], [0]],\n",
    "    'objects/creature/creature.obj', 'objects/creature/texture.png',\n",
    "    [[0,1,0], [0,-1,20], [1,1,1],[0.1,0.1,0.9,32], [180]],\n",
    "    'objects/wolf/wolf.obj', 'objects/wolf/texture.jpg',\n",
    "    [[0,1,0], [-1,-0.8,20], [1,1,1],[0.1,0.1,0.9,32], [180]],\n",
    "    'objects/penguin/penguin.obj', 'objects/penguin/texture.png',\n",
    "    [[0,1,0], [0,-0.8,20], [1,1,1],[0.1,0.1,0.9,32], [180]],\n",
    "    'objects/ufo/ufo.obj', 'objects/ufo/texture.jpg',\n",
    "    [[0,1,0], [-1,5,20], [0.5,0.5,0.5],[0.1,0.1,0.9,32], [180]],\n",
    "]\n",
    "\n",
    "\n",
    "lista_modelos = []\n",
    "\n",
    "def insere_modelo(modelo, indice, textura, transform):\n",
    "    dictModelo = {}\n",
    "    dictModelo['nome_objeto'] = modelo\n",
    "    dictModelo['vertice_inicial'] = len(vertices_list)\n",
    "    dictModelo['indice_textura'] = indice\n",
    "    dictModelo['transform'] = transform\n",
    "    \n",
    "    modelo = load_model_from_file(modelo)\n",
    "    \n",
    "    for face in modelo['faces']:\n",
    "        for vertice_id in face[0]:\n",
    "            vertices_list.append( modelo['vertices'][vertice_id-1] )\n",
    "        for texture_id in face[1]:\n",
    "            textures_coord_list.append( modelo['texture'][texture_id-1] )\n",
    "    \n",
    "    dictModelo['vertice_final'] = len(vertices_list)\n",
    "    load_texture_from_file(indice, textura)\n",
    "    return dictModelo\n",
    "\n",
    "for i in range(0, len(nomes_modelos), 3):\n",
    "    lista_modelos.append(insere_modelo(nomes_modelos[i], int(i/3), nomes_modelos[i+1], nomes_modelos[i+2]))\n"
   ]
  },
  {
   "cell_type": "markdown",
   "metadata": {},
   "source": [
    "### Para enviar nossos dados da CPU para a GPU, precisamos requisitar slots.\n",
    "\n",
    "Agora requisitamos dois slots.\n",
    "* Um para enviar coordenadas dos vértices.\n",
    "* Outro para enviar coordenadas de texturas."
   ]
  },
  {
   "cell_type": "code",
   "execution_count": 16,
   "metadata": {},
   "outputs": [],
   "source": [
    "# Request a buffer slot from GPU\n",
    "buffer = glGenBuffers(2)"
   ]
  },
  {
   "cell_type": "markdown",
   "metadata": {},
   "source": [
    "###  Enviando coordenadas de vértices para a GPU"
   ]
  },
  {
   "cell_type": "code",
   "execution_count": 17,
   "metadata": {},
   "outputs": [],
   "source": [
    "vertices = np.zeros(len(vertices_list), [(\"position\", np.float32, 3)])\n",
    "vertices['position'] = vertices_list\n",
    "\n",
    "\n",
    "# Upload data\n",
    "glBindBuffer(GL_ARRAY_BUFFER, buffer[0])\n",
    "glBufferData(GL_ARRAY_BUFFER, vertices.nbytes, vertices, GL_STATIC_DRAW)\n",
    "stride = vertices.strides[0]\n",
    "offset = ctypes.c_void_p(0)\n",
    "loc_vertices = glGetAttribLocation(program, \"position\")\n",
    "glEnableVertexAttribArray(loc_vertices)\n",
    "glVertexAttribPointer(loc_vertices, 3, GL_FLOAT, False, stride, offset)"
   ]
  },
  {
   "cell_type": "markdown",
   "metadata": {},
   "source": [
    "###  Enviando coordenadas de textura para a GPU"
   ]
  },
  {
   "cell_type": "code",
   "execution_count": 18,
   "metadata": {},
   "outputs": [],
   "source": [
    "textures = np.zeros(len(textures_coord_list), [(\"position\", np.float32, 2)]) # duas coordenadas\n",
    "textures['position'] = textures_coord_list\n",
    "\n",
    "\n",
    "# Upload data\n",
    "glBindBuffer(GL_ARRAY_BUFFER, buffer[1])\n",
    "glBufferData(GL_ARRAY_BUFFER, textures.nbytes, textures, GL_STATIC_DRAW)\n",
    "stride = textures.strides[0]\n",
    "offset = ctypes.c_void_p(0)\n",
    "loc_texture_coord = glGetAttribLocation(program, \"texture_coord\")\n",
    "glEnableVertexAttribArray(loc_texture_coord)\n",
    "glVertexAttribPointer(loc_texture_coord, 2, GL_FLOAT, False, stride, offset)"
   ]
  },
  {
   "cell_type": "markdown",
   "metadata": {},
   "source": [
    "### Desenhando nossos modelos\n",
    "* Cada modelo tem um Model para posicioná-los no mundo.\n",
    "* É necessário saber qual a posição inicial e total de vértices de cada modelo.\n",
    "* É necessário indicar qual o ID da textura do modelo."
   ]
  },
  {
   "cell_type": "code",
   "execution_count": 19,
   "metadata": {},
   "outputs": [],
   "source": [
    "def desenha_modelo(dict_model):\n",
    "    # aplica a matriz model\n",
    "    transform = dict_model['transform']\n",
    "    # rotacao\n",
    "    angle = transform[-1][0];\n",
    "    r_x = 0.0; r_y = 1.0; r_z = 0.0;\n",
    "    \n",
    "    # translacao\n",
    "    t_x = 0.0; t_y = -1.0; t_z = 0.0;\n",
    "    \n",
    "    # escala\n",
    "    s_x = 1.0; s_y = 1.0; s_z = 1.0;\n",
    "    #rts\n",
    "    mat_model = model(angle, \n",
    "                      transform[0][0], transform[0][1], transform[0][2],\n",
    "                      transform[1][0], transform[1][1], transform[1][2],\n",
    "                      transform[2][0], transform[2][1], transform[2][2])\n",
    "    \n",
    "    loc_model = glGetUniformLocation(program, \"model\")\n",
    "    glUniformMatrix4fv(loc_model, 1, GL_TRUE, mat_model)\n",
    "    \n",
    "    loc_ka = glGetUniformLocation(program, \"ka\") # recuperando localizacao da variavel ka na GPU\n",
    "    glUniform1f(loc_ka, transform[3][0] ) ### envia ka pra gpu\n",
    "    \n",
    "    loc_kd = glGetUniformLocation(program, \"kd\") # recuperando localizacao da variavel kd na GPU\n",
    "    glUniform1f(loc_kd, transform[3][1]) ### envia kd pra gpu    \n",
    "    \n",
    "    loc_ks = glGetUniformLocation(program, \"ks\") # recuperando localizacao da variavel ks na GPU\n",
    "    glUniform1f(loc_ks, transform[3][2]) ### envia ks pra gpu        \n",
    "    \n",
    "    loc_ns = glGetUniformLocation(program, \"ns\") # recuperando localizacao da variavel ns na GPU\n",
    "    glUniform1f(loc_ns, transform[3][3]) ### envia ns pra gpu     \n",
    "    \n",
    "    #define id da textura do modelo\n",
    "    glBindTexture(GL_TEXTURE_2D, dict_model['indice_textura'])\n",
    "        \n",
    "    # desenha o modelo\n",
    "    glDrawArrays(GL_TRIANGLES, dict_model['vertice_inicial'], \n",
    "                 dict_model['vertice_final'] - dict_model['vertice_inicial']) ## renderizando\n",
    "    \n",
    "def desenha_caixa():\n",
    "    \n",
    "    \n",
    "    # aplica a matriz model\n",
    "    \n",
    "    # rotacao\n",
    "    angle = 0.0;\n",
    "    r_x = 0.0; r_y = 0.0; r_z = 1.0;\n",
    "    \n",
    "    # translacao\n",
    "    t_x = 0.0; t_y = 0.0; t_z = 15.0;\n",
    "    \n",
    "    # escala\n",
    "    s_x = 1.0; s_y = 1.0; s_z = 1.0;\n",
    "    \n",
    "    mat_model = model(angle, r_x, r_y, r_z, t_x, t_y, t_z, s_x, s_y, s_z)\n",
    "    loc_model = glGetUniformLocation(program, \"model\")\n",
    "    glUniformMatrix4fv(loc_model, 1, GL_TRUE, mat_model)\n",
    "       \n",
    "    loc_ka = glGetUniformLocation(program, \"ka\") # recuperando localizacao da variavel ka na GPU\n",
    "    glUniform1f(loc_ka, ka) ### envia ka pra gpu\n",
    "    \n",
    "    loc_kd = glGetUniformLocation(program, \"kd\") # recuperando localizacao da variavel kd na GPU\n",
    "    glUniform1f(loc_kd, kd) ### envia kd pra gpu    \n",
    "    \n",
    "    loc_ks = glGetUniformLocation(program, \"ks\") # recuperando localizacao da variavel ks na GPU\n",
    "    glUniform1f(loc_ks, ks) ### envia ks pra gpu        \n",
    "    \n",
    "    loc_ns = glGetUniformLocation(program, \"ns\") # recuperando localizacao da variavel ns na GPU\n",
    "    glUniform1f(loc_ns, ns) ### envia ns pra gpu         \n",
    "    \n",
    "    #define id da textura do modelo\n",
    "    glBindTexture(GL_TEXTURE_2D, 0)\n",
    "    \n",
    "    \n",
    "    # desenha o modelo\n",
    "    glDrawArrays(GL_TRIANGLES, 0, 36) ## renderizando"
   ]
  },
  {
   "cell_type": "markdown",
   "metadata": {},
   "source": [
    "### Eventos para modificar a posição da câmera.\n",
    "\n",
    "* Usei as teclas A, S, D e W para movimentação no espaço tridimensional.\n",
    "* Usei a posição do mouse para \"direcionar\" a câmera."
   ]
  },
  {
   "cell_type": "code",
   "execution_count": 20,
   "metadata": {},
   "outputs": [],
   "source": [
    "cameraPos   = glm.vec3(0.0,  0.0,  1.0);\n",
    "cameraFront = glm.vec3(0.0,  0.0, -1.0);\n",
    "cameraUp    = glm.vec3(0.0,  1.0,  0.0);\n",
    "\n",
    "\n",
    "polygonal_mode = False\n",
    "\n",
    "def key_event(window,key,scancode,action,mods):\n",
    "    global cameraPos, cameraFront, cameraUp, polygonal_mode\n",
    "    \n",
    "    cameraSpeed = 0.2\n",
    "    if key == 87 and (action==1 or action==2): # tecla W\n",
    "        auxiliarPos = cameraPos + cameraSpeed * cameraFront\n",
    "        if auxiliarPos[1] > -1.0:\n",
    "            cameraPos = auxiliarPos\n",
    "    \n",
    "    if key == 83 and (action==1 or action==2): # tecla S\n",
    "        auxiliarPos = cameraPos - cameraSpeed * cameraFront\n",
    "        if auxiliarPos[1] > -1.0:\n",
    "            cameraPos = auxiliarPos\n",
    "    if key == 65 and (action==1 or action==2): # tecla A        \n",
    "        auxiliarPos = cameraPos - glm.normalize(glm.cross(cameraFront, cameraUp)) * cameraSpeed\n",
    "        if auxiliarPos[1] > -1.0:\n",
    "            cameraPos = auxiliarPos\n",
    "        \n",
    "    if key == 68 and (action==1 or action==2): # tecla D\n",
    "        auxiliarPos = cameraPos + glm.normalize(glm.cross(cameraFront, cameraUp)) * cameraSpeed\n",
    "        if auxiliarPos[1] > -1.0:\n",
    "            cameraPos = auxiliarPos\n",
    "        \n",
    "        \n",
    "    if key == 80 and action==1 and polygonal_mode==True:\n",
    "        polygonal_mode=False\n",
    "    else:\n",
    "        if key == 80 and action==1 and polygonal_mode==False:\n",
    "            polygonal_mode=True\n",
    "            \n",
    "    if key == 32 and action==1: #tecla SPACE_BAR\n",
    "        print('space')\n",
    "\n",
    "    if key == 340 and action==1: #tecla SHIFT\n",
    "        print('shift')\n",
    "    print('cameraPos:{pos}'.format(pos=cameraPos ))\n",
    "        \n",
    "firstMouse = True\n",
    "yaw = -90.0 \n",
    "pitch = 0.0\n",
    "lastX =  largura/2\n",
    "lastY =  altura/2\n",
    "\n",
    "def mouse_event(window, xpos, ypos):\n",
    "    global firstMouse, cameraFront, yaw, pitch, lastX, lastY\n",
    "    if firstMouse:\n",
    "        lastX = xpos\n",
    "        lastY = ypos\n",
    "        firstMouse = False\n",
    "\n",
    "    xoffset = xpos - lastX\n",
    "    yoffset = lastY - ypos\n",
    "    lastX = xpos\n",
    "    lastY = ypos\n",
    "\n",
    "    sensitivity = 0.3 \n",
    "    xoffset *= sensitivity\n",
    "    yoffset *= sensitivity\n",
    "\n",
    "    yaw += xoffset;\n",
    "    pitch += yoffset;\n",
    "\n",
    "    \n",
    "    if pitch >= 90.0: pitch = 90.0\n",
    "    if pitch <= -90.0: pitch = -90.0\n",
    "\n",
    "    front = glm.vec3()\n",
    "    front.x = math.cos(glm.radians(yaw)) * math.cos(glm.radians(pitch))\n",
    "    front.y = math.sin(glm.radians(pitch))\n",
    "    front.z = math.sin(glm.radians(yaw)) * math.cos(glm.radians(pitch))\n",
    "    cameraFront = glm.normalize(front)\n",
    "\n",
    "\n",
    "    \n",
    "glfw.set_key_callback(window,key_event)\n",
    "glfw.set_cursor_pos_callback(window, mouse_event)"
   ]
  },
  {
   "cell_type": "markdown",
   "metadata": {},
   "source": [
    "### Matrizes Model, View e Projection\n",
    "\n",
    "Teremos uma aula específica para entender o seu funcionamento."
   ]
  },
  {
   "cell_type": "code",
   "execution_count": 21,
   "metadata": {},
   "outputs": [],
   "source": [
    "def model(angle, r_x, r_y, r_z, t_x, t_y, t_z, s_x, s_y, s_z):\n",
    "    \n",
    "    angle = math.radians(angle)\n",
    "    \n",
    "    matrix_transform = glm.mat4(1.0) # instanciando uma matriz identidade\n",
    "\n",
    "    \n",
    "    # aplicando translacao\n",
    "    matrix_transform = glm.translate(matrix_transform, glm.vec3(t_x, t_y, t_z))    \n",
    "    \n",
    "    # aplicando rotacao\n",
    "    matrix_transform = glm.rotate(matrix_transform, angle, glm.vec3(r_x, r_y, r_z))\n",
    "    \n",
    "    # aplicando escala\n",
    "    matrix_transform = glm.scale(matrix_transform, glm.vec3(s_x, s_y, s_z))\n",
    "    \n",
    "    matrix_transform = np.array(matrix_transform)\n",
    "    \n",
    "    return matrix_transform\n",
    "\n",
    "def view():\n",
    "    global cameraPos, cameraFront, cameraUp\n",
    "    mat_view = glm.lookAt(cameraPos, cameraPos + cameraFront, cameraUp);\n",
    "    mat_view = np.array(mat_view)\n",
    "    return mat_view\n",
    "\n",
    "def projection():\n",
    "    global altura, largura\n",
    "    # perspective parameters: fovy, aspect, near, far\n",
    "    mat_projection = glm.perspective(glm.radians(45.0), largura/altura, 0.1, 1000.0)\n",
    "    mat_projection = np.array(mat_projection)    \n",
    "    return mat_projection"
   ]
  },
  {
   "cell_type": "markdown",
   "metadata": {},
   "source": [
    "### Nesse momento, exibimos a janela."
   ]
  },
  {
   "cell_type": "code",
   "execution_count": 22,
   "metadata": {},
   "outputs": [],
   "source": [
    "glfw.show_window(window)\n",
    "glfw.set_cursor_pos(window, lastX, lastY)"
   ]
  },
  {
   "cell_type": "markdown",
   "metadata": {},
   "source": [
    "### Loop principal da janela.\n",
    "Enquanto a janela não for fechada, esse laço será executado. É neste espaço que trabalhamos com algumas interações com a OpenGL."
   ]
  },
  {
   "cell_type": "code",
   "execution_count": null,
   "metadata": {},
   "outputs": [
    {
     "name": "stdout",
     "output_type": "stream",
     "text": [
      "cameraPos:vec3(    -0.168866,            0,      1.10717 )\n",
      "cameraPos:vec3(    -0.344629,            0,       1.2026 )\n",
      "cameraPos:vec3(    -0.523303,            0,      1.29246 )\n",
      "cameraPos:vec3(    -0.706012,            0,      1.37381 )\n",
      "cameraPos:vec3(    -0.893469,            0,      1.44352 )\n",
      "cameraPos:vec3(     -1.08553,            0,      1.49932 )\n",
      "cameraPos:vec3(     -1.28071,            0,      1.54295 )\n",
      "cameraPos:vec3(     -1.47736,            0,       1.5794 )\n",
      "cameraPos:vec3(     -1.67473,            0,      1.61172 )\n",
      "cameraPos:vec3(     -1.87243,            0,      1.64197 )\n",
      "cameraPos:vec3(     -2.07058,            0,      1.66911 )\n",
      "cameraPos:vec3(     -2.26937,            0,      1.69106 )\n",
      "cameraPos:vec3(     -2.46915,            0,      1.70048 )\n",
      "cameraPos:vec3(     -2.66876,            0,      1.68792 )\n",
      "cameraPos:vec3(     -2.86439,            0,      1.64634 )\n",
      "cameraPos:vec3(      -3.0536,            0,      1.58156 )\n",
      "cameraPos:vec3(     -3.23878,            0,      1.50599 )\n",
      "cameraPos:vec3(     -3.42191,            0,       1.4256 )\n",
      "cameraPos:vec3(     -3.60197,            0,      1.33855 )\n",
      "cameraPos:vec3(     -3.77673,            0,      1.24129 )\n",
      "cameraPos:vec3(     -3.94214,            0,      1.12887 )\n",
      "cameraPos:vec3(     -3.94214,            0,      1.12887 )\n",
      "cameraPos:vec3(     -4.12226,    0.0385044,      1.20681 )\n",
      "cameraPos:vec3(     -4.31752,     0.067721,      1.23879 )\n",
      "cameraPos:vec3(     -4.51277,    0.0969376,      1.27076 )\n",
      "cameraPos:vec3(     -4.70802,     0.126154,      1.30274 )\n",
      "cameraPos:vec3(     -4.90328,     0.155371,      1.33471 )\n",
      "cameraPos:vec3(     -5.09868,     0.183551,      1.36671 )\n",
      "cameraPos:vec3(     -5.29466,     0.208618,      1.39775 )\n",
      "cameraPos:vec3(     -5.49108,     0.232645,      1.42675 )\n",
      "cameraPos:vec3(     -5.68839,     0.252509,      1.45273 )\n",
      "cameraPos:vec3(      -5.8866,     0.266112,      1.47566 )\n",
      "cameraPos:vec3(     -6.08539,     0.275533,      1.49551 )\n",
      "cameraPos:vec3(     -6.28447,     0.282862,      1.51327 )\n",
      "cameraPos:vec3(     -6.48375,     0.289144,      1.52896 )\n",
      "cameraPos:vec3(     -6.68331,     0.293333,      1.54151 )\n",
      "cameraPos:vec3(     -6.88327,     0.293333,       1.5457 )\n",
      "cameraPos:vec3(     -7.08327,     0.293333,      1.54465 )\n",
      "cameraPos:vec3(     -7.28313,     0.292286,      1.53732 )\n",
      "cameraPos:vec3(     -7.48269,     0.288097,      1.52477 )\n",
      "cameraPos:vec3(     -7.68189,     0.281815,      1.50804 )\n",
      "cameraPos:vec3(       -7.881,     0.275533,      1.49027 )\n",
      "cameraPos:vec3(     -8.08011,     0.269251,       1.4725 )\n",
      "cameraPos:vec3(     -8.27913,     0.262968,      1.45369 )\n",
      "cameraPos:vec3(     -8.47745,     0.256686,      1.42863 )\n",
      "cameraPos:vec3(     -8.67492,     0.251451,      1.39736 )\n",
      "cameraPos:vec3(     -8.87032,     0.249357,      1.35475 )\n",
      "cameraPos:vec3(      -9.0635,     0.248309,      1.30299 )\n",
      "cameraPos:vec3(     -9.25556,     0.247262,      1.24719 )\n",
      "cameraPos:vec3(     -9.44671,     0.246215,      1.18839 )\n",
      "cameraPos:vec3(     -9.63626,     0.244121,       1.1246 )\n",
      "cameraPos:vec3(     -9.82332,     0.240979,      1.05391 )\n",
      "cameraPos:vec3(      -10.008,     0.235744,     0.977402 )\n",
      "cameraPos:vec3(      -10.008,     0.235744,     0.977402 )\n",
      "cameraPos:vec3(     -9.99234,     0.235744,      1.17679 )\n",
      "cameraPos:vec3(     -9.96106,     0.235744,      1.37432 )\n",
      "cameraPos:vec3(     -9.92977,     0.235744,      1.57186 )\n",
      "cameraPos:vec3(     -9.89848,     0.235744,       1.7694 )\n",
      "cameraPos:vec3(      -9.8672,     0.235744,      1.96694 )\n",
      "cameraPos:vec3(     -9.83591,     0.235744,      2.16447 )\n",
      "cameraPos:vec3(     -9.80462,     0.235744,      2.36201 )\n",
      "cameraPos:vec3(     -9.77333,     0.235744,      2.55955 )\n",
      "cameraPos:vec3(     -9.74205,     0.235744,      2.75709 )\n",
      "cameraPos:vec3(     -9.71076,     0.235744,      2.95462 )\n",
      "cameraPos:vec3(     -9.67534,     0.235744,      3.15146 )\n",
      "cameraPos:vec3(     -9.63581,     0.235744,      3.34752 )\n",
      "cameraPos:vec3(     -9.59218,     0.235744,       3.5427 )\n",
      "cameraPos:vec3(     -9.54346,     0.235744,      3.73668 )\n",
      "cameraPos:vec3(     -9.48867,     0.235744,      3.92902 )\n",
      "cameraPos:vec3(     -9.42986,     0.235744,      4.12018 )\n",
      "cameraPos:vec3(     -9.24278,     0.275275,      4.06155 )\n",
      "cameraPos:vec3(     -9.24278,     0.275275,      4.06155 )\n",
      "cameraPos:vec3(     -9.07571,     0.349873,      3.98079 )\n",
      "cameraPos:vec3(     -8.91205,      0.43122,      3.89955 )\n",
      "cameraPos:vec3(      -8.7537,      0.52295,      3.81887 )\n",
      "cameraPos:vec3(     -8.59929,     0.621131,      3.73814 )\n",
      "cameraPos:vec3(     -8.44533,     0.720223,      3.65765 )\n",
      "cameraPos:vec3(     -8.29137,     0.819314,      3.57717 )\n",
      "cameraPos:vec3(     -8.13742,     0.918406,      3.49668 )\n",
      "cameraPos:vec3(     -7.98346,       1.0175,      3.41619 )\n",
      "cameraPos:vec3(     -7.82639,      1.11016,      3.33408 )\n",
      "cameraPos:vec3(     -7.66436,      1.19341,      3.25152 )\n",
      "cameraPos:vec3(     -7.49737,      1.26704,      3.16971 )\n",
      "cameraPos:vec3(     -7.32598,      1.32984,      3.08796 )\n",
      "cameraPos:vec3(     -7.15058,      1.38261,      3.00766 )\n",
      "cameraPos:vec3(     -6.97186,      1.42624,      2.92921 )\n",
      "cameraPos:vec3(     -6.79115,      1.46372,      2.85213 )\n",
      "cameraPos:vec3(      -6.6092,      1.49604,      2.77564 )\n",
      "cameraPos:vec3(     -6.42627,      1.52422,      2.69987 )\n",
      "cameraPos:vec3(     -6.24268,      1.55032,      2.62495 )\n",
      "cameraPos:vec3(     -6.05858,      1.57539,      2.55094 )\n",
      "cameraPos:vec3(     -5.87447,      1.60046,      2.47693 )\n",
      "cameraPos:vec3(     -5.69037,      1.62552,      2.40292 )\n",
      "cameraPos:vec3(     -5.50626,      1.65059,      2.32891 )\n",
      "cameraPos:vec3(     -5.32216,      1.67566,       2.2549 )\n",
      "cameraPos:vec3(      -5.1379,      1.69552,      2.17971 )\n",
      "cameraPos:vec3(     -4.95471,      1.70808,      2.10043 )\n",
      "cameraPos:vec3(     -4.77299,      1.71541,      2.01723 )\n",
      "cameraPos:vec3(     -4.59164,      1.72064,      1.93306 )\n",
      "cameraPos:vec3(     -4.41072,      1.72483,      1.84792 )\n",
      "cameraPos:vec3(     -4.23111,      1.72588,      1.75993 )\n",
      "cameraPos:vec3(     -4.05203,      1.72064,      1.67104 )\n",
      "cameraPos:vec3(     -3.87403,      1.71122,      1.58034 )\n",
      "cameraPos:vec3(     -3.69665,      1.69866,      1.48879 )\n"
     ]
    }
   ],
   "source": [
    "glEnable(GL_DEPTH_TEST) ### importante para 3D\n",
    "   \n",
    "\n",
    "rotacao_inc = 0\n",
    "while not glfw.window_should_close(window):\n",
    "\n",
    "    glfw.poll_events() \n",
    "    \n",
    "    \n",
    "    glClear(GL_COLOR_BUFFER_BIT | GL_DEPTH_BUFFER_BIT)\n",
    "    \n",
    "    glClearColor(1.0, 1.0, 1.0, 1.0)\n",
    "    \n",
    "    if polygonal_mode==True:\n",
    "        glPolygonMode(GL_FRONT_AND_BACK,GL_LINE)\n",
    "    if polygonal_mode==False:\n",
    "        glPolygonMode(GL_FRONT_AND_BACK,GL_FILL)\n",
    "    \n",
    "    rotacao_inc = 0.0\n",
    "    \n",
    "    for modelo in lista_modelos:\n",
    "        desenha_modelo(modelo)\n",
    "    #esenha_caixa()\n",
    "    #esenha_terreno()\n",
    "    #esenha_casa()\n",
    "    \n",
    "    #otacao_inc += 0.1\n",
    "    #desenha_monstro(rotacao_inc)\n",
    "    #esenha_gato(rotacao_inc)\n",
    "    #esenha_planta(0.0)\n",
    "  \n",
    "\n",
    "    \n",
    "    mat_view = view()\n",
    "    loc_view = glGetUniformLocation(program, \"view\")\n",
    "    glUniformMatrix4fv(loc_view, 1, GL_TRUE, mat_view)\n",
    "\n",
    "    mat_projection = projection()\n",
    "    loc_projection = glGetUniformLocation(program, \"projection\")\n",
    "    glUniformMatrix4fv(loc_projection, 1, GL_TRUE, mat_projection)    \n",
    "    \n",
    "    \n",
    "\n",
    "    \n",
    "    glfw.swap_buffers(window)\n",
    "\n",
    "glfw.terminate()"
   ]
  }
 ],
 "metadata": {
  "finalized": {
   "timestamp": 1589232864147,
   "trusted": true
  },
  "kernelspec": {
   "display_name": "Python 3 (ipykernel)",
   "language": "python",
   "name": "python3"
  },
  "language_info": {
   "codemirror_mode": {
    "name": "ipython",
    "version": 3
   },
   "file_extension": ".py",
   "mimetype": "text/x-python",
   "name": "python",
   "nbconvert_exporter": "python",
   "pygments_lexer": "ipython3",
   "version": "3.9.7"
  },
  "vscode": {
   "interpreter": {
    "hash": "c75a79e667ba465de4006372fd6d3e44e2ada8205613ca7a67eb0cf34f489432"
   }
  }
 },
 "nbformat": 4,
 "nbformat_minor": 2
}

{
 "cells": [
  {
   "cell_type": "markdown",
   "metadata": {
    "id": "5XBJ4af_spBq"
   },
   "source": [
    "# Mago gestor de desastres\n",
    "#### Grupo:\n",
    "César Augusto Lima - 9771525<br>\n",
    "Igor Antunes Boson Paes - 11200571<br>\n",
    "Tyago Yuji Teoi - 10299660<br>\n",
    "\n",
    "O projeto se trata de um minigame no qual um mago precisa resolver os desastres apresentados na tela.<br>\n",
    "Quadrados mágicos invocados pelo mago se encontram posicionados na rua. \n",
    "<br>\n",
    "O mago, para desfazer os desastres, deve ficar acima do quadrado mágico, focalizar na gema do cajado a energia emanada pelo quadrado (deixar o cajado na mesma cor que o quadrado mágico) e realizar a magia de curta, média ou longa distância (apertar a tecla correta)\n",
    "#### Controles no teclado:\n",
    "##### Movimentação:\n",
    "W para cima<br>\n",
    "A para a esquerda<br>\n",
    "D para a direita<br>\n",
    "S para baixo\n",
    "##### Cajado:\n",
    "Seta UP    do teclado para cor BRANCA<br>\n",
    "Seta LEFT  do teclado para cor VERMELHA<br>\n",
    "Seta DOWN  do teclado para cor VERDE<br>\n",
    "Seta RIGHT do teclado para cor AZUL\n",
    "##### Magias:\n",
    "Q para curta distância (Roda gigante)<br>\n",
    "E para média distância (Prédio partido)<br>\n",
    "R para longa distância (Sol em colapso)<br>"
   ]
  },
  {
   "cell_type": "markdown",
   "metadata": {},
   "source": [
    "#### Instalação de bibliotecas"
   ]
  },
  {
   "cell_type": "code",
   "execution_count": 1,
   "metadata": {},
   "outputs": [
    {
     "name": "stdout",
     "output_type": "stream",
     "text": [
      "Requirement already satisfied: glfw in c:\\programdata\\anaconda3\\lib\\site-packages (2.5.3)\n",
      "Requirement already satisfied: PyOpenGL in c:\\programdata\\anaconda3\\lib\\site-packages (3.1.6)\n"
     ]
    }
   ],
   "source": [
    "!pip install glfw\n",
    "!pip install PyOpenGL"
   ]
  },
  {
   "cell_type": "markdown",
   "metadata": {
    "id": "29ELtAPdspBu"
   },
   "source": [
    "### Inicialização de bibliotecas\n"
   ]
  },
  {
   "cell_type": "code",
   "execution_count": 2,
   "metadata": {
    "id": "dXmBAOkuspBw"
   },
   "outputs": [],
   "source": [
    "import glfw\n",
    "from OpenGL.GL import *\n",
    "import OpenGL.GL.shaders\n",
    "import numpy as np\n",
    "from math import *"
   ]
  },
  {
   "cell_type": "markdown",
   "metadata": {
    "id": "F5RLpI9kspBx"
   },
   "source": [
    "### Funções de auxilio geral"
   ]
  },
  {
   "cell_type": "code",
   "execution_count": 3,
   "metadata": {
    "id": "RdYp_R63spBx"
   },
   "outputs": [],
   "source": [
    "# Função que testa se dois arrays possuem valores inteiros iguais\n",
    "def testaParteInteira(A, B):\n",
    "    if len(A) == len(B):\n",
    "        for i in range(len(A)):\n",
    "            if int(A[i]) != int(B[i]):\n",
    "                return False\n",
    "        return True\n",
    "    else:\n",
    "        return False\n",
    "    \n",
    "# Função básica que multiplica duas matrizes\n",
    "def multiplica_matriz(a,b):\n",
    "    m_a = a.reshape(4,4)\n",
    "    m_b = b.reshape(4,4)\n",
    "    m_c = np.dot(m_a,m_b)\n",
    "    c = m_c.reshape(1,16)\n",
    "    return c\n",
    "\n",
    "# Matriz que nao altera a matriz de transformação,\n",
    "# caso seja multiplicada\n",
    "mat_translationZero = np.array([    1.0,  0.0,  0,    0, \n",
    "                                    0.0,  1.0,  0,    0, \n",
    "                                    0.0,  0.0, 1.0,   0,\n",
    "                                      0,    0,   0,   1], np.float32)"
   ]
  },
  {
   "cell_type": "markdown",
   "metadata": {
    "id": "AUPKdEU0spBy"
   },
   "source": [
    "### Variaveis globais"
   ]
  },
  {
   "cell_type": "markdown",
   "metadata": {
    "id": "5Fco5c-OspBz"
   },
   "source": [
    "### Inicialização do sistema de janela GLFW"
   ]
  },
  {
   "cell_type": "code",
   "execution_count": 4,
   "metadata": {
    "colab": {
     "base_uri": "https://localhost:8080/"
    },
    "executionInfo": {
     "elapsed": 257,
     "status": "ok",
     "timestamp": 1650581657429,
     "user": {
      "displayName": "Tyago Yuji Teoi",
      "userId": "12652863676549665424"
     },
     "user_tz": 180
    },
    "id": "FRqHQmYKspBz",
    "outputId": "59bc795f-ce08-4e69-db51-57fafcb11654"
   },
   "outputs": [
    {
     "name": "stderr",
     "output_type": "stream",
     "text": [
      "C:\\Users\\10299660\\AppData\\Local\\Temp/ipykernel_5004/2425299068.py:6: VisibleDeprecationWarning: Creating an ndarray from ragged nested sequences (which is a list-or-tuple of lists-or-tuples-or ndarrays with different lengths or shapes) is deprecated. If you meant to do this, you must specify 'dtype=object' when creating the ndarray.\n",
      "  quadradoMagico = np.array([[[-0.6  ,-0.6 ],[1,1,1]],\n"
     ]
    }
   ],
   "source": [
    "# Guarda o RGB do cajado do mago\n",
    "cajadoRGB = [0, 0, 0]\n",
    "\n",
    "# Array que guarda a posição e o RGB dos quadrados mágicos\n",
    "                             #Posicao       R G B\n",
    "quadradoMagico = np.array([[[-0.6  ,-0.6 ],[1,1,1]],\n",
    "                           [[ 0.16 ,-0.75],[1,1,1]],\n",
    "                           [[-0.12 ,-0.95],[1,1,1]]])\n",
    "\n",
    "# Variável que testa se todos os quadrados mágicos se dissiparam (todos os desastres foram resolvidos)\n",
    "testeAcabouQuadrado = (testaParteInteira(quadradoMagico[0][1], [0,0,0]) and\n",
    "                       testaParteInteira(quadradoMagico[1][1], [0,0,0]) and\n",
    "                       testaParteInteira(quadradoMagico[2][1], [0,0,0]))\n",
    "\n",
    "# Guarda o RGB do Sol e dos raios\n",
    "raioSol = [[1.0,0.0,0.0], [1.0,0.3,0.0]]\n",
    "\n",
    "# Variáveis de posição, rotação, escala e o valor dos acréscimos de cada objeto:\n",
    "txMago = -0.6;        txMagoInc = 0.25;\n",
    "tyMago = -0.3;        tyMagoInc = 0.1;\n",
    "sMago = 1;            sMagoInc = 0.1;\n",
    "rMago = 0;            rMagoInc = 1;\n",
    "\n",
    "txPredio0 = 0.0;      txPredio0Inc = 0.05;\n",
    "tyPredio0 = -0.5;     tyPredio0Inc = 0.10;\n",
    "sPredio0 = 1;         sPredio0Inc = 0.2;\n",
    "rPredio0 = pi;        rPredio0Inc = pi/4;\n",
    "\n",
    "txPredio1 = 0.25;     txPredio1Inc = 0.1;\n",
    "tyPredio1 = -0.5;     tyPredio1Inc = 0.1;\n",
    "sPredio1 = 1;         sPredio1Inc = 0.2;\n",
    "rPredio1 = 0;         rPredio1Inc = 1;\n",
    "\n",
    "txSol0 = 0;           txSol0Inc = 0.1;\n",
    "tySol0 = 1.1;         tySol0Inc = 0.1;\n",
    "sSol0 = 1;            sSol0Inc = 0.2;\n",
    "rSol0 = 0;            rSol0Inc = 1;\n",
    "\n",
    "txSol1 = 0;           txSol0Inc = 0.1\n",
    "tySol1 = 1.1;         tySol0Inc = 0.1\n",
    "sSol1 = 1;            sSol0Inc = 0.02\n",
    "rSol1 = 0;            rSol0Inc = 1\n",
    "\n",
    "txNuvem = -0.25;      txNuvemInc = 0.1\n",
    "tyNuvem = 0.25;       tyNuvemInc = 0.1\n",
    "sNuvem = 1.5;         sNuvemInc = 0.2\n",
    "rNuvem = 0;           rNuvemInc = 1\n",
    "\n",
    "txRoda0 = 0;          txRoda0Inc = 0.1;\n",
    "tyRoda0 = -0.35;      tyRoda0Inc = 0.1;\n",
    "sRoda0 = 5;           sRoda0Inc = 0.5;\n",
    "rRoda0 = 0;           rRoda0Inc = pi/5;\n",
    "\n",
    "sRoda1 = 3;           sRoda1Inc = 0.3;\n",
    "sRoda2 = 1;           sRoda2Inc = 0.1;\n",
    "sRoda3 = 1;           sRoda3Inc = 0.1;"
   ]
  },
  {
   "cell_type": "code",
   "execution_count": 5,
   "metadata": {
    "id": "qU5JUWFVspB1",
    "outputId": "fa9b78f0-6060-4ad8-fb7a-e22b86db7731",
    "scrolled": true
   },
   "outputs": [
    {
     "data": {
      "text/plain": [
       "1"
      ]
     },
     "execution_count": 5,
     "metadata": {},
     "output_type": "execute_result"
    }
   ],
   "source": [
    "glfw.init()"
   ]
  },
  {
   "cell_type": "markdown",
   "metadata": {
    "id": "vXW08mL3spB2"
   },
   "source": [
    "### Definição de parâmetros da janela\n",
    "* Linha 1: janela será criada, mas não será exibida imediatamente\n",
    "* Linha 2: cria a janela com tamanho (width e height) e título (outras opções disponíveis, como fullscreen ao abrir e controles de monitor\n",
    "* Linha 3: torna a janela a principal no momento (contexto)"
   ]
  },
  {
   "cell_type": "code",
   "execution_count": 6,
   "metadata": {
    "id": "oc6sW7uTspB2"
   },
   "outputs": [],
   "source": [
    "glfw.window_hint (glfw.VISIBLE, glfw.FALSE)\n",
    "window = glfw.create_window(720, 600, \"Projeto 1\", None, None)\n",
    "glfw.make_context_current(window)"
   ]
  },
  {
   "cell_type": "markdown",
   "metadata": {
    "id": "VC4ilK3SspB3"
   },
   "source": [
    "### Função para capturar eventos de teclado\n",
    "A função (key_event) é genérica e apenas imprime no terminal quais teclas estão sendo pressionadas"
   ]
  },
  {
   "cell_type": "code",
   "execution_count": 7,
   "metadata": {
    "id": "Ob3nE1z8spB3"
   },
   "outputs": [],
   "source": [
    "def key_event(window, key, scancode, action, mods):\n",
    "    global txMago, tyMago, sMago, rMago, txMagoInc, tyMagoInc, rMagoInc, sMagoInc, cajadoRGB\n",
    "    global txPredio0, tyPredio0, sPredio0, rPredio0, txPredio0Inc, tyPredio0Inc, rPredio0Inc, sPredio0Inc\n",
    "    global txPredio1, tyPredio1, sPredio1, rPredio1, txPredio1Inc, tyPredio1Inc, rPredio1Inc, sPredio1Inc \n",
    "    global txSol0, tySol0, sSol0, rSol0, txSol0Inc, tySol0Inc, rSol0Inc, sSol0Inc, raioSol\n",
    "    global txSol1, tySol1, sSol1, rSol1, txSol1Inc, tySol1Inc, rSol1Inc, sSol1Inc \n",
    "    global txNuvem, tyNuvem, sNuvem, rNuvem, txNuvemInc, tyNuvemInc, rNuvemInc, sNuvemInc \n",
    "    global txRoda0, tyRoda0, sRoda0, rRoda0, txRoda0Inc, tyRoda0Inc, rRoda0Inc, sRoda0Inc \n",
    "    global sRoda1, sRoda1Inc \n",
    "    global sRoda2, sRoda2Inc \n",
    "    global sRoda3, sRoda3Inc \n",
    "    global quadradoMagico    \n",
    "    global testeAcabouQuadrado\n",
    "    \n",
    "    testeAcabouQuadrado = (testaParteInteira(quadradoMagico[0][1], [0,0,0]) and\n",
    "                                  testaParteInteira(quadradoMagico[1][1], [0,0,0]) and\n",
    "                                  testaParteInteira(quadradoMagico[2][1], [0,0,0]))\n",
    "    \n",
    "    print('[key event] key=', key)\n",
    "    print('[key event] scancode=', scancode)\n",
    "    print('[key event] action=', action)\n",
    "    print('[key event] mods=', mods)\n",
    "    print('-------')\n",
    "    \n",
    "    # Variáveis de testes para evitar problemas com float\n",
    "    testeTxMago = int(txMago * 100)\n",
    "    testeTyMago = int(tyMago * 100)     \n",
    "        \n",
    "    #tecla A\n",
    "    if key == 65 and action == 1:\n",
    "        if txMago > -0.6:\n",
    "            txMago -= txMagoInc\n",
    "        \n",
    "    #tecla W\n",
    "    if key == 87 and action == 1:\n",
    "        if tyMago < -0.35:\n",
    "            tyMago += tyMagoInc\n",
    "            sMago -= sMagoInc\n",
    "        \n",
    "    #tecla S\n",
    "    if key == 83 and action == 1:\n",
    "        if tyMago > -0.5:\n",
    "            tyMago -= tyMagoInc\n",
    "            sMago += sMagoInc\n",
    "        \n",
    "    #tecla D\n",
    "    if key == 68 and action == 1:\n",
    "        if txMago < 0.6:\n",
    "            txMago += txMagoInc\n",
    "        \n",
    "    #tecla Q\n",
    "    if key == 81 and action == 1:\n",
    "        if testeTxMago == -60 and testeTyMago == -30:\n",
    "            if testaParteInteira(quadradoMagico[0][1], [1,0,0]) and testaParteInteira(cajadoRGB, [1,0,0]):\n",
    "                if sRoda0 > 1:\n",
    "                    txRoda0 += txRoda0Inc\n",
    "                    tyRoda0 -= (0.01)*sRoda0/(2*sRoda0Inc )\n",
    "                    rRoda0 += rRoda0Inc\n",
    "                    sRoda0 -= sRoda0Inc\n",
    "                    sRoda1 -= sRoda1Inc\n",
    "                    sRoda2 -= sRoda2Inc\n",
    "                    sRoda3 -= sRoda2Inc\n",
    "                else:\n",
    "                    quadradoMagico[0][1] = [0,0,0]\n",
    "                    cajadoRGB = [0,0,0]\n",
    "        \n",
    "       \n",
    "    #tecla E\n",
    "    if key == 69 and action == 1:\n",
    "        if testeTxMago == 15 and testeTyMago == -40 :\n",
    "            if testaParteInteira(quadradoMagico[1][1], [1,0,0]) and testaParteInteira(cajadoRGB, [1,0,0]):\n",
    "                if tyPredio0 < 0.4:\n",
    "                    tyPredio0 += tyPredio0Inc\n",
    "                else:\n",
    "                    quadradoMagico[1][1] = [0,1,0]\n",
    "            elif testaParteInteira(quadradoMagico[1][1], [0,1,0]) and testaParteInteira(cajadoRGB, [0,1,0]):\n",
    "                if txPredio0 < 0.25:\n",
    "                    txPredio0 += txPredio0Inc\n",
    "                else:\n",
    "                    quadradoMagico[1][1] = [0,0,1]\n",
    "            elif testaParteInteira(quadradoMagico[1][1], [0,0,1]) and testaParteInteira(cajadoRGB, [0,0,1]):\n",
    "                if rPredio0 > 0:\n",
    "                    rPredio0 -= rPredio0Inc\n",
    "                    if rPredio0 <= 0:\n",
    "                        quadradoMagico[1][1] = [0,0,0]\n",
    "                        cajadoRGB = [0,0,0]\n",
    "        \n",
    "    #tecla R\n",
    "    if key == 82 and action == 1:\n",
    "        if testeTxMago == -9 and testeTyMago == -50:\n",
    "            if testaParteInteira(quadradoMagico[2][1], [1,0,0]) and testaParteInteira(cajadoRGB, [1,0,0]):\n",
    "                if sSol0 > 0.5 :\n",
    "                    sSol0 -= sSol0Inc\n",
    "                    raioSol[0][1] += 1/26\n",
    "                    raioSol[1][1] += 0.7/26\n",
    "                    raioSol[1][2] += 1/26\n",
    "                else:\n",
    "                    quadradoMagico[2][1] = [0,0,0]\n",
    "                    cajadoRGB = [0,0,0]\n",
    "        \n",
    "    #tecla UP\n",
    "    if key == 265 and action == 1:\n",
    "        cajadoRGB = [1, 1, 1]\n",
    "    #tecla DOWN\n",
    "    if key == 264 and action == 1:\n",
    "        cajadoRGB = [0, 1, 0]\n",
    "    #tecla RIGHT\n",
    "    if key == 262 and action == 1:\n",
    "        cajadoRGB = [0, 0, 1]\n",
    "    #tecla LEFT\n",
    "    if key == 263 and action == 1:\n",
    "        cajadoRGB = [1, 0, 0]\n",
    "        \n",
    "    \n",
    "    \n",
    "glfw.set_key_callback (window, key_event)"
   ]
  },
  {
   "cell_type": "markdown",
   "metadata": {
    "id": "Gjyg0Vu1spB4"
   },
   "source": [
    "### Função para capturar eventos de mouse\n",
    "A função (mouse_event) apenas exibe qual o botão do mouse foi pressionado.\n",
    "Detalhes de como coletar eventos de coordenadas do ponteiro/cursor do mouse: https://www.glfw.org/docs/3.3.2/input_guide.html"
   ]
  },
  {
   "cell_type": "code",
   "execution_count": 8,
   "metadata": {
    "id": "AkbiPrqRspB4"
   },
   "outputs": [],
   "source": [
    "# Quantidade de acréscimo atual e acréscimo\n",
    "\n",
    "def mouse_event(window,button,action,mods):\n",
    "\n",
    "    #print('[mouse event] button=',button)\n",
    "    #print('[mouse event] action=',action)\n",
    "    #print('[mouse event] mods=',mods)\n",
    "    #print('-------')\n",
    "\n",
    "    if (button == 0 and action == 1):\n",
    "        print()\n",
    "    if (button == 1 and action == 1):\n",
    "        print()\n",
    "\n",
    "glfw.set_mouse_button_callback(window,mouse_event)"
   ]
  },
  {
   "cell_type": "markdown",
   "metadata": {
    "id": "wvj-vhg_spB5"
   },
   "source": [
    "### Definição do vértice"
   ]
  },
  {
   "cell_type": "code",
   "execution_count": 9,
   "metadata": {
    "id": "hOjxxffespB6"
   },
   "outputs": [],
   "source": [
    "vertex_code = \"\"\"\n",
    "        attribute vec2 position;\n",
    "        uniform mat4 mat_transformation;\n",
    "        \n",
    "        void main(){        \n",
    "            gl_Position = mat_transformation*vec4(position,0.0,1.0);            \n",
    "        }\n",
    "        \"\"\""
   ]
  },
  {
   "cell_type": "markdown",
   "metadata": {
    "id": "s6dVG8NxspB7"
   },
   "source": [
    "### Definição de cor de um fragmento\n",
    "* void main() é o ponto de entrada do programa (função principal)\n",
    "* gl_FragColor é variável especial que determina a cor de um fragmento. Pode ser (linha, triangulo, etc)"
   ]
  },
  {
   "cell_type": "code",
   "execution_count": 10,
   "metadata": {
    "id": "zIGAHIWXspB7"
   },
   "outputs": [],
   "source": [
    "fragment_code = \"\"\"\n",
    "        uniform vec4 color;\n",
    "        void main(){            \n",
    "            gl_FragColor = color;\n",
    "        }\n",
    "        \"\"\"\n"
   ]
  },
  {
   "cell_type": "markdown",
   "metadata": {
    "id": "Ct-wWsj6spB8"
   },
   "source": [
    "### Requisita slot para a GPU para programas Vertex e Fragment Shaders"
   ]
  },
  {
   "cell_type": "code",
   "execution_count": 11,
   "metadata": {
    "id": "F9VMtjWespB8"
   },
   "outputs": [],
   "source": [
    "program  = glCreateProgram()\n",
    "vertex   = glCreateShader(GL_VERTEX_SHADER)\n",
    "fragment = glCreateShader(GL_FRAGMENT_SHADER)"
   ]
  },
  {
   "cell_type": "markdown",
   "metadata": {
    "id": "gkuqes3bspB8"
   },
   "source": [
    "### Associação do código-fonte aos slots solicitados"
   ]
  },
  {
   "cell_type": "code",
   "execution_count": 12,
   "metadata": {
    "id": "uP20C1SsspB8"
   },
   "outputs": [],
   "source": [
    "# Set shaders source\n",
    "glShaderSource(vertex, vertex_code)\n",
    "glShaderSource(fragment, fragment_code)"
   ]
  },
  {
   "cell_type": "markdown",
   "metadata": {
    "id": "G4PdMeikspB9"
   },
   "source": [
    "### Compilação do Vertex Shader"
   ]
  },
  {
   "cell_type": "code",
   "execution_count": 13,
   "metadata": {
    "id": "H9RWoqFDspB9"
   },
   "outputs": [],
   "source": [
    "glCompileShader(vertex)\n",
    "if not glGetShaderiv(vertex, GL_COMPILE_STATUS):\n",
    "    error = glGetShaderInfoLog(vertex).decode()\n",
    "    print(error)\n",
    "    raise RuntimeError(\"Erro de compilacao do Vertex Shader\")"
   ]
  },
  {
   "cell_type": "markdown",
   "metadata": {
    "id": "2J5lPn2FspB9"
   },
   "source": [
    "### Compilação do Fragment Shader"
   ]
  },
  {
   "cell_type": "code",
   "execution_count": 14,
   "metadata": {
    "id": "CpqgS_fZspB-"
   },
   "outputs": [],
   "source": [
    "glCompileShader(fragment)\n",
    "if not glGetShaderiv(fragment, GL_COMPILE_STATUS):\n",
    "    error = glGetShaderInfoLog(fragment).decode()\n",
    "    print(error)\n",
    "    raise RuntimeError(\"Erro de compilacao do Fragment Shader\")"
   ]
  },
  {
   "cell_type": "markdown",
   "metadata": {
    "id": "wOQYxQOWspB-"
   },
   "source": [
    "### Associação dos programas compilado ao programa principal"
   ]
  },
  {
   "cell_type": "code",
   "execution_count": 15,
   "metadata": {
    "id": "DnjXn8HJspB-"
   },
   "outputs": [],
   "source": [
    "glAttachShader(program, vertex)\n",
    "glAttachShader(program, fragment)"
   ]
  },
  {
   "cell_type": "markdown",
   "metadata": {
    "id": "JFvDWGdvspB_"
   },
   "source": [
    "### Link do programa"
   ]
  },
  {
   "cell_type": "code",
   "execution_count": 16,
   "metadata": {
    "id": "QJFJRcYSspB_"
   },
   "outputs": [],
   "source": [
    "# Build program\n",
    "glLinkProgram(program)\n",
    "if not glGetProgramiv(program, GL_LINK_STATUS):\n",
    "    print(glGetProgramInfoLog(program))\n",
    "    raise RuntimeError('Linking error')\n",
    "    \n",
    "# Make program the default program\n",
    "glUseProgram(program)"
   ]
  },
  {
   "cell_type": "markdown",
   "metadata": {
    "id": "cXLkEqUMspB_"
   },
   "source": [
    "### Preparando dados para enviar a GPU"
   ]
  },
  {
   "cell_type": "code",
   "execution_count": 17,
   "metadata": {
    "id": "j6sldzShspB_"
   },
   "outputs": [],
   "source": [
    "# preparando espaço para 20 vértices usando 2 coordenadas (x,y)\n",
    "num_v = 36\n",
    "n_verticesCabecaMago = 64 # vértices da cabeça do mago\n",
    "n_verticesCorpoMago = 32 # vértices do corpo do mago\n",
    "n_verticesCetroMago0 = 4 # vértices do cetro do mago\n",
    "n_verticesCetroMago1 = 8 # vértices do cristal do cetro do mago\n",
    "n_verticesPredioDestruido0 = 18 # vértices do prédio caído\n",
    "n_verticesPredioDestruido1 = 15 # vertices do prédio incompleto\n",
    "n_verticesSol0 = 8 # vértices do sol\n",
    "n_verticesSol1 = 16 # vértices dos raios de sol\n",
    "n_verticesNuvem = 20 # vértices da núvem\n",
    "\n",
    "n_verticesTotal = (num_v + n_verticesCabecaMago + n_verticesCorpoMago \n",
    "+ n_verticesCetroMago0 + n_verticesCetroMago1 + n_verticesPredioDestruido0\n",
    "+ n_verticesPredioDestruido1 + n_verticesSol0 + n_verticesSol1 + n_verticesNuvem)\n",
    "\n",
    "vertices = np.zeros(n_verticesTotal, [(\"position\", np.float32, 2)])"
   ]
  },
  {
   "cell_type": "code",
   "execution_count": 18,
   "metadata": {
    "id": "FIqw-q8aspCA"
   },
   "outputs": [],
   "source": [
    "# preenchendo as coordenadas de cada vértice\n",
    "\n",
    "\n",
    "vertices['position'] = [\n",
    "                            (0.05 ,0.07),     # Roda Triangulo      vertice 0\n",
    "                            (0.04 ,0.17),     # Roda Triangulo\n",
    "                            (0.15 ,0.09),     # Roda Triangulo\n",
    "                            (-0.05,0.07),     # Roda Triangulo\n",
    "                            (-0.04,0.17),     # Roda Triangulo\n",
    "                            (-0.15,0.09),     # Roda Triangulo\n",
    "                            (0.00,-0.086 ),   # Roda Triangulo\n",
    "                            (.068,-0.165 ),   # Roda Triangulo\n",
    "                            (-0.068,-0.165),  # Roda Triangulo\n",
    "                            (0.078 , -0.015), # Roda Triangulo\n",
    "                            ( 0.17,0.015 ),   # Roda Triangulo\n",
    "                            ( 0.13 ,-0.11),   # Roda Triangulo\n",
    "                            (-0.078,-.015),   # Roda Triangulo\n",
    "                            (-0.17,0.015 ),   # Roda Triangulo\n",
    "                            (-0.13 ,-0.11),   # Roda Triangulo\n",
    "    \n",
    "                            ( 0.0 , 0.05), # Quadrado Mágico       vertice 15\n",
    "                            (-0.3 , 0   ), # Quadrado Mágico\n",
    "                            ( 0 ,-0.09 ),  # Quadrado Mágico\n",
    "                            ( 0.3 , 0.0 ), # Quadrado Mágico\n",
    "                            ( 0.0, 0.05 ), # Quadrado Mágico\n",
    "    \n",
    "                            (-1.0 ,-1.0 ), # Background cenario 0  vertice 20\n",
    "                            ( 1.0 ,-1.0 ), # Background cenario 1\n",
    "                            (-1.0 , 1.0 ), # Background cenario 2\n",
    "                            ( 1.0 , 1.0 ), # Background cenario 3\n",
    "                            (-1.0 ,-1.0 ), # Rua cenario 0         vertice 24\n",
    "                            ( 1.0 ,-1.0 ), # Rua cenario 1\n",
    "                            (-1.0 ,-0.5 ), # Rua cenario 2\n",
    "                            ( 1.0 ,-0.5 ), # Rua cenario 3\n",
    "                            ( 0.7 ,-0.5 ), # Prédio cenario 0      vertice 28\n",
    "                            ( 1.0 ,-0.5 ), # Prédio cenario 1\n",
    "                            ( 0.7 , 0.5 ), # Prédio cenario 2\n",
    "                            ( 1.0 , 0.5 ), # Prédio cenario 3\n",
    "                            (-1.0 ,-1.0 ), # Prédio janela cenario 0    vertice 32\n",
    "                            ( 1.0 ,-1.0 ), # Prédio janela cenario 1\n",
    "                            (-1.0 , 1.0 ), # Prédio janela cenario 2\n",
    "                            ( 1.0 , 1.0 ),  # Prédio janela cenario 3\n",
    "    \n",
    "                            (0 ,0 ), # Mago Cabeça vertice 36\n",
    "                            (0 ,0 ), # Mago Cabeça\n",
    "                            (0 ,0 ), # Mago Cabeça\n",
    "                            (0 ,0 ), # Mago Cabeça\n",
    "                            (0 ,0 ), # Mago Cabeça\n",
    "                            (0 ,0 ), # Mago Cabeça\n",
    "                            (0 ,0 ), # Mago Cabeça\n",
    "                            (0 ,0 ), # Mago Cabeça\n",
    "                            (0 ,0 ), # Mago Cabeça\n",
    "                            (0 ,0 ), # Mago Cabeça\n",
    "                            (0 ,0 ), # Mago Cabeça\n",
    "                            (0 ,0 ), # Mago Cabeça\n",
    "                            (0 ,0 ), # Mago Cabeça\n",
    "                            (0 ,0 ), # Mago Cabeça\n",
    "                            (0 ,0 ), # Mago Cabeça\n",
    "                            (0 ,0 ), # Mago Cabeça\n",
    "                            (0 ,0 ), # Mago Cabeça\n",
    "                            (0 ,0 ), # Mago Cabeça\n",
    "                            (0 ,0 ), # Mago Cabeça\n",
    "                            (0 ,0 ), # Mago Cabeça\n",
    "                            (0 ,0 ), # Mago Cabeça\n",
    "                            (0 ,0 ), # Mago Cabeça\n",
    "                            (0 ,0 ), # Mago Cabeça\n",
    "                            (0 ,0 ), # Mago Cabeça\n",
    "                            (0 ,0 ), # Mago Cabeça\n",
    "                            (0 ,0 ), # Mago Cabeça\n",
    "                            (0 ,0 ), # Mago Cabeça\n",
    "                            (0 ,0 ), # Mago Cabeça\n",
    "                            (0 ,0 ), # Mago Cabeça\n",
    "                            (0 ,0 ), # Mago Cabeça\n",
    "                            (0 ,0 ), # Mago Cabeça\n",
    "                            (0 ,0 ), # Mago Cabeça\n",
    "                            (0 ,0 ), # Mago Cabeça\n",
    "                            (0 ,0 ), # Mago Cabeça\n",
    "                            (0 ,0 ), # Mago Cabeça\n",
    "                            (0 ,0 ), # Mago Cabeça\n",
    "                            (0 ,0 ), # Mago Cabeça\n",
    "                            (0 ,0 ), # Mago Cabeça\n",
    "                            (0 ,0 ), # Mago Cabeça\n",
    "                            (0 ,0 ), # Mago Cabeça\n",
    "                            (0 ,0 ), # Mago Cabeça\n",
    "                            (0 ,0 ), # Mago Cabeça\n",
    "                            (0 ,0 ), # Mago Cabeça\n",
    "                            (0 ,0 ), # Mago Cabeça\n",
    "                            (0 ,0 ), # Mago Cabeça\n",
    "                            (0 ,0 ), # Mago Cabeça\n",
    "                            (0 ,0 ), # Mago Cabeça\n",
    "                            (0 ,0 ), # Mago Cabeça\n",
    "                            (0 ,0 ), # Mago Cabeça\n",
    "                            (0 ,0 ), # Mago Cabeça\n",
    "                            (0 ,0 ), # Mago Cabeça\n",
    "                            (0 ,0 ), # Mago Cabeça\n",
    "                            (0 ,0 ), # Mago Cabeça\n",
    "                            (0 ,0 ), # Mago Cabeça\n",
    "                            (0 ,0 ), # Mago Cabeça\n",
    "                            (0 ,0 ), # Mago Cabeça\n",
    "                            (0 ,0 ), # Mago Cabeça\n",
    "                            (0 ,0 ), # Mago Cabeça\n",
    "                            (0 ,0 ), # Mago Cabeça\n",
    "                            (0 ,0 ), # Mago Cabeça\n",
    "                            (0 ,0 ), # Mago Cabeça\n",
    "                            (0 ,0 ), # Mago Cabeça\n",
    "                            (0 ,0 ), # Mago Cabeça\n",
    "                            (0 ,0 ), # Mago Cabeça \n",
    "    \n",
    "                            (0 ,0 ), # Mago Corpo    vertice 100\n",
    "                            (0 ,0 ), # Mago Corpo\n",
    "                            (0 ,0 ), # Mago Corpo\n",
    "                            (0 ,0 ), # Mago Corpo\n",
    "                            (0 ,0 ), # Mago Corpo\n",
    "                            (0 ,0 ), # Mago Corpo\n",
    "                            (0 ,0 ), # Mago Corpo\n",
    "                            (0 ,0 ), # Mago Corpo\n",
    "                            (0 ,0 ), # Mago Corpo\n",
    "                            (0 ,0 ), # Mago Corpo\n",
    "                            (0 ,0 ), # Mago Corpo\n",
    "                            (0 ,0 ), # Mago Corpo\n",
    "                            (0 ,0 ), # Mago Corpo\n",
    "                            (0 ,0 ), # Mago Corpo\n",
    "                            (0 ,0 ), # Mago Corpo\n",
    "                            (0 ,0 ), # Mago Corpo\n",
    "                            (0 ,0 ), # Mago Corpo\n",
    "                            (0 ,0 ), # Mago Corpo\n",
    "                            (0 ,0 ), # Mago Corpo\n",
    "                            (0 ,0 ), # Mago Corpo\n",
    "                            (0 ,0 ), # Mago Corpo\n",
    "                            (0 ,0 ), # Mago Corpo\n",
    "                            (0 ,0 ), # Mago Corpo\n",
    "                            (0 ,0 ), # Mago Corpo\n",
    "                            (0 ,0 ), # Mago Corpo\n",
    "                            (0 ,0 ), # Mago Corpo\n",
    "                            (0 ,0 ), # Mago Corpo\n",
    "                            (0 ,0 ), # Mago Corpo\n",
    "                            (0 ,0 ), # Mago Corpo\n",
    "                            (0 ,0 ), # Mago Corpo\n",
    "                            (0 ,0 ), # Mago Corpo\n",
    "                            (0 ,0 ), # Mago Corpo    \n",
    "    \n",
    "                            (0.13, -0.3), # Mago Cetro0     vertice 132\n",
    "                            (0.17, -0.3), # Mago Cetro0\n",
    "                            (0.13, 0.06), # Mago Cetro0\n",
    "                            (0.17, 0.06), # Mago Cetro0\n",
    "    \n",
    "                            (0, 0), # Mago Cetro1     vertice 136\n",
    "                            (0, 0), # Mago Cetro1\n",
    "                            (0, 0), # Mago Cetro1\n",
    "                            (0, 0), # Mago Cetro1   \n",
    "                            (0, 0), # Mago Cetro1\n",
    "                            (0, 0), # Mago Cetro1\n",
    "                            (0, 0), # Mago Cetro1\n",
    "                            (0, 0), # Mago Cetro1   \n",
    "    \n",
    "                            (0, 0), # Predio destruído caído          vertice 144\n",
    "                            (0.4, 0), # Predio destruído caído\n",
    "                            (0,-0.3), # Predio destruído caído\n",
    "    \n",
    "                            (0,-0.3), # Predio destruído caído          vertice 147\n",
    "                            (0.4,-0.3), # Predio destruído caído\n",
    "                            (0.4, 0), # Predio destruído caído\n",
    "    \n",
    "                            (0,-0.3), # Predio destruído caído      vertice 150\n",
    "                            (0,-0.5), # Predio destruído caído \n",
    "                            (0.1,-0.6), # Predio destruído caído\n",
    "    \n",
    "                            (0,-0.3), # Predio destruído caído    vertice 153\n",
    "                            (0.1,-0.6), # Predio destruído caído\n",
    "                            (0.2,-0.3), # Predio destruído caído   \n",
    "    \n",
    "                            (0.2,-0.3), # Predio destruído caído  vertice 156\n",
    "                            (0.2,-0.6), # Predio destruído caído\n",
    "                            (0.4,-0.3), # Predio destruído caído\n",
    "    \n",
    "                            (0.4,-0.3), # Predio destruído caído vertice 159\n",
    "                            (0.4,-0.4), # Predio destruído caído\n",
    "                            (0.2,-0.6), # Predio destruído caído\n",
    "    \n",
    "                            (0.0,0 ), # Predio destruído incompleto    vertice 162\n",
    "                            (0.4,0.0 ), # Predio destruído incompleto\n",
    "                            (0.0, 0.3), # Predio destruído incompleto\n",
    "    \n",
    "                            (0.4, 0.0), # Predio destruído incompleto  vertice 165\n",
    "                            (0, 0.3),  # Predio destruído incompleto    \n",
    "                            (0.4, 0.3), # Predio destruído incompleto \n",
    "    \n",
    "                            (0.0,0.3), # Predio destruído incompleto    vertice 168\n",
    "                            (0.1, 0.3), # Predio destruído incompleto\n",
    "                            (0.0, 0.4), # Predio destruído incompleto\n",
    "    \n",
    "                            (0.1,0.3), # Predio destruído incompleto    vertice 171\n",
    "                            (0.2, 0.3), # Predio destruído incompleto\n",
    "                            (0.2, 0.6), # Predio destruído incompleto\n",
    "    \n",
    "                            (0.4,0.3), # Predio destruído incompleto    vertice 174\n",
    "                            (0.4, 0.5), # Predio destruído incompleto\n",
    "                            (0.2, 0.3), # Predio destruído incompleto\n",
    "    \n",
    "                            (0, 0), # Sol Círculo           vertice 177\n",
    "                            (0, 0), # Sol Círculo\n",
    "                            (0, 0), # Sol Círculo\n",
    "                            (0, 0), # Sol Círculo  \n",
    "                            (0, 0), # Sol Círculo\n",
    "                            (0, 0), # Sol Círculo\n",
    "                            (0, 0), # Sol Círculo\n",
    "                            (0, 0), # Sol Círculo  \n",
    "    \n",
    "                            (0, 0), # Sol Raios        vertice 185\n",
    "                            (0, 0), # Sol Raios\n",
    "                            (0, 0), # Sol Raios\n",
    "                            (0, 0), # Sol Raios \n",
    "                            (0, 0), # Sol Raios\n",
    "                            (0, 0), # Sol Raios\n",
    "                            (0, 0), # Sol Raios\n",
    "                            (0, 0), # Sol Raios\n",
    "                            (0, 0), # Sol Raios\n",
    "                            (0, 0), # Sol Raios\n",
    "                            (0, 0), # Sol Raios \n",
    "                            (0, 0), # Sol Raios\n",
    "                            (0, 0), # Sol Raios\n",
    "                            (0, 0), # Sol Raios\n",
    "                            (0, 0), # Sol Raios\n",
    "                            (0, 0), # Sol Raios\n",
    "    \n",
    "                            (0, 0), # Nuvem          vertice 201\n",
    "                            (0,0.185), # Nuvem\n",
    "                            (-0.1,0.17), # Nuvem\n",
    "                            (-0.13,0.13), # Nuvem \n",
    "                            (-0.2,0.10), # Nuvem\n",
    "                            (-0.25,0.0), # Nuvem\n",
    "                            (-0.2,-0.09), # Nuvem\n",
    "                            (-0.1,-0.065), # Nuvem\n",
    "                            (-0.05,-0.1), # Nuvem\n",
    "                            (0.05,-.095), # Nuvem\n",
    "                            (0.1,-0.08), # Nuvem\n",
    "                            (0.16,-.091), # Nuvem\n",
    "                            (0.23,-.04), # Nuvem\n",
    "                            (0.25,.01), # Nuvem\n",
    "                            (0.235,.06), # Nuvem\n",
    "                            (0.255,.1), # Nuvem\n",
    "                            (0.22,.165), # Nuvem\n",
    "                            (0.15, .17), # Nuvem\n",
    "                            (0.08, 0.15), # Nuvem\n",
    "                            (0,0.185), # Nuvem\n",
    "                        ]\n",
    "\n",
    "########################## INSERE OS VÉRTICES DA CABEÇA DO MAGO ########################## \n",
    "pi = 3.14\n",
    "counter = 0\n",
    "radius = 0.065\n",
    "angle = 0.0\n",
    "\n",
    "for counter in range(n_verticesCabecaMago):\n",
    "    angle += 2*pi/n_verticesCabecaMago \n",
    "    x = cos(angle)*radius\n",
    "    y = sin(angle)*radius\n",
    "    vertices[counter + num_v] = [x, y]\n",
    "    \n",
    "########################## INSERE OS VÉRTICES DO CORPO DO MAGO ########################## \n",
    "aCorpo = 0.1\n",
    "bCorpo = 0.13\n",
    "counter = 0\n",
    "angle = 0.0\n",
    "for counter in range((n_verticesCorpoMago)):\n",
    "    angle += 2*pi/n_verticesCorpoMago\n",
    "    x = cos(angle)*aCorpo\n",
    "    y = sin(angle)*bCorpo - 0.2\n",
    "    vertices[counter + num_v + n_verticesCabecaMago] = [x,y]\n",
    "    \n",
    "    \n",
    "########################## INSERE OS VÉRTICES DA GEMA NO CETRO DO MAGO ########################## \n",
    "angle = 0.0\n",
    "radius = 0.035\n",
    "for counter in range(n_verticesCetroMago1):\n",
    "    angle += 2*pi/n_verticesCetroMago1\n",
    "    x = cos(angle)*radius + 0.15\n",
    "    y = sin(angle)*radius + 0.1\n",
    "    vertices[counter + 136] = [x, y]\n",
    "    \n",
    "########################## INSERE OS VÉRTICES DO SOL(metade de um círculo) ########################## \n",
    "angle = 2.95 \n",
    "radius = 0.4\n",
    "flag = 0\n",
    "for counter in range(n_verticesSol0):\n",
    "    angle += pi/n_verticesSol0\n",
    "    x0 = cos(angle)*radius\n",
    "    y0 = sin(angle)*radius\n",
    "    vertices[counter+177] = [x0, y0]\n",
    "\n",
    "    x1 = cos(angle) * 4.0\n",
    "    y1 = sin(angle) * 4.0\n",
    "    flag += 1\n",
    "    if flag%3 == 0 and flag != 0:\n",
    "        vertices[flag+185] = [0, 0]\n",
    "        flag += 1\n",
    "    vertices[flag-1+185] = [x1, y1]"
   ]
  },
  {
   "cell_type": "markdown",
   "metadata": {
    "id": "6lZF7LgAspCB"
   },
   "source": [
    "### Requisita slot da para enviar dados da CPU para a GPU"
   ]
  },
  {
   "cell_type": "code",
   "execution_count": 19,
   "metadata": {
    "colab": {
     "base_uri": "https://localhost:8080/",
     "height": 223
    },
    "executionInfo": {
     "elapsed": 7,
     "status": "error",
     "timestamp": 1650571007188,
     "user": {
      "displayName": "Tyago Yuji Teoi",
      "userId": "12652863676549665424"
     },
     "user_tz": 180
    },
    "id": "V19QaRhRspCB",
    "outputId": "781a29ac-6891-44f9-d5b3-eee61757d08a"
   },
   "outputs": [],
   "source": [
    "# Request a buffer slot from GPU\n",
    "buffer = glGenBuffers(1)\n",
    "# Make this buffer the default one\n",
    "glBindBuffer(GL_ARRAY_BUFFER, buffer)"
   ]
  },
  {
   "cell_type": "markdown",
   "metadata": {
    "id": "Tgo9Q8erspCB"
   },
   "source": [
    "### Conteúdo da variável vertice\n",
    "parâmetros da função glBufferData: [https://www.khronos.org/registry/OpenGL-Refpages/gl4/html/glBufferData.xhtml]"
   ]
  },
  {
   "cell_type": "code",
   "execution_count": 20,
   "metadata": {
    "id": "oT5sJAZQspCC"
   },
   "outputs": [],
   "source": [
    "# Upload data\n",
    "glBufferData(GL_ARRAY_BUFFER, vertices.nbytes, vertices, GL_DYNAMIC_DRAW)\n",
    "glBindBuffer(GL_ARRAY_BUFFER, buffer)"
   ]
  },
  {
   "cell_type": "markdown",
   "metadata": {
    "id": "ikVIUkc5spCC"
   },
   "source": [
    "### Associação de variáveis do programa GLSL (Vertex Shaders) com nossos dados\n",
    "* 1: Definição do byte inicial e o offset dos dados"
   ]
  },
  {
   "cell_type": "code",
   "execution_count": 21,
   "metadata": {
    "id": "wG8ctLF1spCC"
   },
   "outputs": [],
   "source": [
    "# Bind the position attribute\n",
    "# --------------------------------------\n",
    "stride = vertices.strides[0]\n",
    "offset = ctypes.c_void_p(0)"
   ]
  },
  {
   "cell_type": "markdown",
   "metadata": {
    "id": "gv931zPfspCD"
   },
   "source": [
    "* 2: Solicita para a GPU a localização da variável 'position' (guarda a coordenada dos nossos vértices), que foi definida no Vertex Shader"
   ]
  },
  {
   "cell_type": "code",
   "execution_count": 22,
   "metadata": {
    "id": "WhZAySphspCE"
   },
   "outputs": [],
   "source": [
    "loc = glGetAttribLocation(program, \"position\")\n",
    "glEnableVertexAttribArray(loc)"
   ]
  },
  {
   "cell_type": "markdown",
   "metadata": {
    "id": "uSQCtPs4spCF"
   },
   "source": [
    "* 3: A partir da localização anterior, indica-se à GPU onde está o conteúdo (via posições stride/offset) para a variável position (identificada na posição loc)\n",
    "\n",
    "outros parâmetros:\n",
    "* Define-se se possui duas coordenadas\n",
    "* Que cada coordenada é do tipo float (GL_FLOAT)\n",
    "* Que não se deve normalizar a coordenada (False)\n",
    "\n",
    "mais detalhes: https://www.khronos.org/registry/OpenGL-Refpages/gl4/html/glVertexAttribPointer.xhtml"
   ]
  },
  {
   "cell_type": "code",
   "execution_count": 23,
   "metadata": {
    "id": "Bat1kfAYspCF"
   },
   "outputs": [],
   "source": [
    "glVertexAttribPointer(loc, 2, GL_FLOAT, False, stride, offset)"
   ]
  },
  {
   "cell_type": "markdown",
   "metadata": {
    "id": "HE8xUtxIspCF"
   },
   "source": [
    "### Atribui a localização da variável color (uniform)"
   ]
  },
  {
   "cell_type": "code",
   "execution_count": 24,
   "metadata": {
    "id": "wF3QmNhdspCF"
   },
   "outputs": [],
   "source": [
    "loc_color = glGetUniformLocation (program, \"color\")"
   ]
  },
  {
   "cell_type": "markdown",
   "metadata": {
    "id": "Sygb-lqvspCF"
   },
   "source": [
    "### Exibe-se a janela"
   ]
  },
  {
   "cell_type": "code",
   "execution_count": 25,
   "metadata": {
    "id": "5mNAYK7pspCH"
   },
   "outputs": [],
   "source": [
    "glfw.show_window (window)"
   ]
  },
  {
   "cell_type": "markdown",
   "metadata": {
    "id": "2Qfnl9DBspCH"
   },
   "source": [
    "### Desenha Rua"
   ]
  },
  {
   "cell_type": "code",
   "execution_count": 26,
   "metadata": {
    "id": "i056p4PrspCH"
   },
   "outputs": [],
   "source": [
    "def DesenhaRua():\n",
    "    # Matriz básica de transformação, reposicionando em (0,0)\n",
    "    mat_transform = np.array([    1.0,  0.0, 0, 0,\n",
    "                                    0.0,  1.0, 0, 0,\n",
    "                                    0.0,  0.0, 1.0 ,0,\n",
    "                                     0, 0, 0, 1], np.float32)\n",
    "    loc = glGetUniformLocation(program, \"mat_transformation\")\n",
    "    \n",
    "    glUniformMatrix4fv(loc, 1, GL_TRUE, mat_transform)\n",
    "    \n",
    "    # Desenha a rua na parte de baixo da tela\n",
    "    glUniform4f(loc_color, 0,0,0, 1.0) \n",
    "    glDrawArrays(GL_TRIANGLE_STRIP, 24, 4)"
   ]
  },
  {
   "cell_type": "markdown",
   "metadata": {
    "id": "oGMAUpuGspCI"
   },
   "source": [
    "### Desenha mago"
   ]
  },
  {
   "cell_type": "code",
   "execution_count": 27,
   "metadata": {
    "id": "Cy00tYcmspCI"
   },
   "outputs": [],
   "source": [
    "def DesenhaMago():\n",
    "    global n_verticesCabecaMago, n_verticesCorpoMago, n_verticesCetroMago0\n",
    "    global n_verticesCetroMago1\n",
    "    global txMago, tyMago, cajadoRGB\n",
    "    global sMago\n",
    "    global rMago\n",
    "    cos_d1 = cos(rMago)\n",
    "    sin_d1 = sin(rMago)\n",
    "    \n",
    "    # Matriz de transformação do mago\n",
    "    mat_rotation_x = np.array([     cos_d1, -sin_d1, 0.0, 0, \n",
    "                                    sin_d1,  cos_d1, 0.0, 0, \n",
    "                                    0.0,        0.0, 1.0, 0,\n",
    "                                      0,          0,   0, 1], np.float32)\n",
    "        \n",
    "    mat_translation = np.array([    1.0,  0.0,  0, txMago, \n",
    "                                    0.0,  1.0,  0, tyMago, \n",
    "                                    0.0,  0.0, 1.0,     0,\n",
    "                                      0,    0,   0,     1], np.float32)\n",
    "    \n",
    "    mat_scale = np.array([          sMago,  0.0, 0.0, 0,\n",
    "                                    0.0   ,  sMago, 0.0, 0, \n",
    "                                    0.0   ,     0.0,   1, 0,\n",
    "                                         0,       0,   0, 1], np.float32)\n",
    "    \n",
    "    \n",
    "    \n",
    "    mat_transform = multiplica_matriz(mat_rotation_x, mat_translation)\n",
    "    mat_transform = multiplica_matriz(mat_scale, mat_transform)\n",
    "    loc = glGetUniformLocation(program, \"mat_transformation\")\n",
    "    glUniformMatrix4fv(loc, 1, GL_TRUE, mat_transform)\n",
    "    \n",
    "    # Desenha a cabeça do mago\n",
    "    glUniform4f(loc_color, 1, 1, 1, 1.0) \n",
    "    glDrawArrays(GL_TRIANGLE_FAN, 36, n_verticesCabecaMago)\n",
    "    \n",
    "    # Desenha o corpo do mago\n",
    "    glUniform4f(loc_color, 0.58, 0, 0.83, 1.0) \n",
    "    glDrawArrays(GL_TRIANGLE_FAN, 100, n_verticesCorpoMago)\n",
    "    \n",
    "    # Desenha o cajado do mago\n",
    "    glUniform4f(loc_color, 0.294, 0.212, 0.13, 1.0) \n",
    "    glDrawArrays(GL_TRIANGLE_STRIP, 132, n_verticesCetroMago0)\n",
    "\n",
    "    glUniform4f(loc_color, cajadoRGB[0], cajadoRGB[1], cajadoRGB[2], 1.0) \n",
    "    glDrawArrays(GL_TRIANGLE_FAN, 136, n_verticesCetroMago1)\n",
    "    "
   ]
  },
  {
   "cell_type": "markdown",
   "metadata": {
    "id": "liMhOO5KspCJ"
   },
   "source": [
    "### Desenha Quadrado Mágico"
   ]
  },
  {
   "cell_type": "code",
   "execution_count": 28,
   "metadata": {
    "id": "DkbS1ZM9spCJ"
   },
   "outputs": [],
   "source": [
    "def DesenhaQuadradoMagico():\n",
    "    global txMago, tyMago, cajadoRGB\n",
    "    global quadradoMagico\n",
    "    \n",
    "    # Variáveis de teste para evitar problemas com float nas comparações \n",
    "    txMagoTeste = int(txMago * 100)\n",
    "    tyMagoTeste = int(tyMago * 100)\n",
    "    \n",
    "    for i in range(len(quadradoMagico)):\n",
    "        # Usa como matriz de translação o conteúdo da variável 'quadradoMagico' que contém as posições\n",
    "        mat_translation = np.array([    1.0,  0.0,  0, quadradoMagico[i][0][0], \n",
    "                                        0.0,  1.0,  0, quadradoMagico[i][0][1], \n",
    "                                        0.0,  0.0, 1.0,     0,\n",
    "                                          0,    0,   0,     1], np.float32)\n",
    "        \n",
    "        loc = glGetUniformLocation(program, \"mat_transformation\")\n",
    "        glUniformMatrix4fv(loc, 1, GL_TRUE, mat_translation)\n",
    "        \n",
    "        #  Testa se o mago em um dos quadrados, comparando com a parte \n",
    "        # inteira da multiplicação por 100 de cada posição do quadrado.\n",
    "        #  Se o mago se encontra acima do quadrado, a cor do quadrado E a cor da gema do\n",
    "        # quadrado são brancas, muda a cor do quadrado para vermelho.\n",
    "        if txMagoTeste == 15 and tyMagoTeste == -40:\n",
    "            if testaParteInteira(cajadoRGB, [1,1,1]) and testaParteInteira(quadradoMagico[1][1], [1,1,1]):\n",
    "                quadradoMagico[1][1] = [1,0,0]\n",
    "\n",
    "        elif txMagoTeste == -9 and tyMagoTeste == -50:\n",
    "            if testaParteInteira(cajadoRGB, [1,1,1]) and testaParteInteira(quadradoMagico[2][1], [1,1,1]):\n",
    "                quadradoMagico[2][1] = [1,0,0]\n",
    "        \n",
    "        elif txMagoTeste == -60 and tyMagoTeste == -30:\n",
    "            if testaParteInteira(cajadoRGB, [1,1,1]) and testaParteInteira(quadradoMagico[0][1], [1,1,1]):\n",
    "                quadradoMagico[0][1] = [1,0,0]        \n",
    "        \n",
    "        # Seta Branco para se o mago não está acima do quadrado E o quadrado não é preto\n",
    "        elif not testaParteInteira(quadradoMagico[i][1], [0,0,0]):\n",
    "            quadradoMagico[i][1] = [1,1,1]            \n",
    "        \n",
    "        glUniform4f(loc_color, quadradoMagico[i][1][0], quadradoMagico[i][1][1], quadradoMagico[i][1][2], 1.0) \n",
    "        glDrawArrays(GL_TRIANGLE_STRIP, 15, 5)\n",
    "    \n",
    "    "
   ]
  },
  {
   "cell_type": "markdown",
   "metadata": {
    "id": "52-AmCAyspCK"
   },
   "source": [
    "### Desenha Sol"
   ]
  },
  {
   "cell_type": "code",
   "execution_count": 29,
   "metadata": {
    "id": "zZoEOa3TspCK"
   },
   "outputs": [],
   "source": [
    "def DesenhaSol():\n",
    "    global n_verticesTotal, n_verticesSol0, n_verticesSol1, n_verticesNuvem\n",
    "    global txSol0, tySol0, txSol1, tySol1\n",
    "    global sSol0, sSol1\n",
    "    global rSol0, rSol1\n",
    "    global quadradoMagico\n",
    "    global raioSol\n",
    "    \n",
    "    # Matriz de transformação do Sol\n",
    "    cos_d1 = cos(rSol0)\n",
    "    sin_d1 = sin(rSol0)\n",
    "        \n",
    "    mat_rotation_x = np.array([     cos_d1, -sin_d1, 0.0, 0, \n",
    "                                    sin_d1,  cos_d1, 0.0, 0, \n",
    "                                    0.0,        0.0, 1.0, 0,\n",
    "                                      0,          0,   0, 1], np.float32)\n",
    "        \n",
    "    mat_translation = np.array([    1.0,  0.0,  0, txSol0, \n",
    "                                    0.0,  1.0,  0, tySol0, \n",
    "                                    0.0,  0.0, 1.0,     0,\n",
    "                                      0,    0,   0,     1], np.float32)\n",
    "    \n",
    "    mat_scale = np.array([          sSol0,  0.0, 0.0, 0,\n",
    "                                    0.0   ,  sSol0, 0.0, 0, \n",
    "                                    0.0   ,     0.0,   1, 0,\n",
    "                                         0,       0,   0, 1], np.float32)\n",
    "    \n",
    "    \n",
    "    mat_transformSol0 = multiplica_matriz(mat_scale, mat_translationZero)\n",
    "    mat_rot = multiplica_matriz(mat_rotation_x, mat_translationZero)\n",
    "    mat_transformSol0 = multiplica_matriz(mat_rot, mat_transformSol0)\n",
    "    mat_transformSol0 = multiplica_matriz(mat_translation, mat_transformSol0)\n",
    "    glUniformMatrix4fv(loc, 1, GL_TRUE, mat_transformSol0) \n",
    "    \n",
    "    # Desenha os raios de sol\n",
    "    if not testaParteInteira(quadradoMagico[2][1], [0,0,0]):\n",
    "        glUniform4f(loc_color, raioSol[1][0], raioSol[1][1], raioSol[1][2], 1.0) \n",
    "        glDrawArrays(GL_TRIANGLES, 185 , n_verticesSol1)\n",
    "    \n",
    "    # Desenha o Sol\n",
    "    glUniform4f(loc_color, raioSol[0][0], raioSol[0][1], raioSol[0][2], 1.0) \n",
    "    glDrawArrays(GL_TRIANGLE_FAN, 177 , n_verticesSol0)\n",
    "\n",
    "        "
   ]
  },
  {
   "cell_type": "markdown",
   "metadata": {
    "id": "dTNZclBuspCK"
   },
   "source": [
    "### Desenha janelas dos prédios\n",
    "Função auxiliar que recebe o número de prédios, a matriz de transformação do prédio<br> e a cor RGB na forma [R,G,B], e a partir do vértice inferior esquerdo do prédio, desenha as janelas."
   ]
  },
  {
   "cell_type": "code",
   "execution_count": 30,
   "metadata": {
    "id": "WlWO760JspCK"
   },
   "outputs": [],
   "source": [
    "def DesenhaJanelas(numJanela, matTransform, RGB):\n",
    "\n",
    "    mat_scale = np.array([          0.3,  0.0, 0.0, 0,\n",
    "                                    0.0   ,  0.3, 0.0, 0, \n",
    "                                    0.0   ,     0.0,   1, 0,\n",
    "                                         0,       0,   0, 1], np.float32) \n",
    "    ty = -0.7\n",
    "    \n",
    "    for i in range(1, numJanela + 1):\n",
    "        tx = 0.725\n",
    "        # A cada duas janelas desenhadas, reposiciona no eixo x para a esquerda\n",
    "        if (i%2 == 0):\n",
    "            tx -= 0.5\n",
    "            \n",
    "        mat_translation = np.array([    1.0,  0.0,   0, tx, \n",
    "                                        0.0,  1.0,   0, ty, \n",
    "                                        0.0,  0.0, 1.0,  0,\n",
    "                                          0,    0,   0,  1], np.float32)\n",
    "        # A cada duas janelas desenhadas, o terceiro reposiciona no eixo y para a cima\n",
    "        if (i%2 == 0):\n",
    "            ty += 0.5\n",
    "        \n",
    "        # A partir da matriz de transformação recebida na função, aplica as transformações\n",
    "        mat_scaleWindow = multiplica_matriz(mat_scale, mat_translationZero)  \n",
    "        mat_transform = multiplica_matriz(mat_scaleWindow, mat_translation)\n",
    "        mat_transform = multiplica_matriz(matTransform, mat_transform)\n",
    "        \n",
    "        # São reutilizadas os vértices do quadrilátero usado para a base do prédio destruído.\n",
    "        glUniformMatrix4fv(loc, 1, GL_TRUE, mat_transform)        \n",
    "        glUniform4f(loc_color, RGB[0], RGB[1], RGB[2], 1.0) \n",
    "        glDrawArrays(GL_TRIANGLES, 144, 6)\n",
    "    "
   ]
  },
  {
   "cell_type": "markdown",
   "metadata": {
    "id": "F08P6p97spCK"
   },
   "source": [
    "### Desenha prédio destruído"
   ]
  },
  {
   "cell_type": "code",
   "execution_count": 31,
   "metadata": {
    "id": "ny27IUOnspCK"
   },
   "outputs": [],
   "source": [
    "def DesenhaPredioDestruido():\n",
    "    global n_verticesCabecaMago, num_v, n_verticesCorpoMago, n_verticesCetroMago0\n",
    "    global n_verticesCetroMago1, n_verticesPredioDestruido0, n_verticesPredioDestruido1\n",
    "    global txPredio0, tyPredio0, txPredio1, tyPredio1\n",
    "    global sPredio0, sPredio1\n",
    "    global rPredio0, rPredio1\n",
    "    global quadradoMagico\n",
    "    \n",
    "    cos_d1 = cos(rPredio0)\n",
    "    sin_d1 = sin(rPredio0)       \n",
    "    \n",
    "    mat_rotation_x = np.array([     cos_d1, -sin_d1, 0.0, 0, \n",
    "                                    sin_d1,  cos_d1, 0.0, 0, \n",
    "                                    0.0,        0.0, 1.0, 0,\n",
    "                                      0,          0,   0, 1], np.float32)\n",
    "        \n",
    "    mat_translation = np.array([    1.0,  0.0,  0, txPredio0, \n",
    "                                    0.0,  1.0,  0, tyPredio0, \n",
    "                                    0.0,  0.0, 1.0,     0,\n",
    "                                      0,    0,   0,     1], np.float32)\n",
    "    \n",
    "    mat_scale = np.array([          sPredio0,  0.0, 0.0, 0,\n",
    "                                    0.0   ,  sPredio0, 0.0, 0, \n",
    "                                    0.0   ,     0.0,   1, 0,\n",
    "                                         0,       0,   0, 1], np.float32)    \n",
    "    \n",
    "    mat_transformPredio0 = multiplica_matriz(mat_rotation_x, mat_translationZero)\n",
    "    mat_rotationPredio0 = multiplica_matriz(mat_scale, mat_translationZero)  \n",
    "    mat_transformPredio0 = multiplica_matriz(mat_rotationPredio0, mat_transformPredio0)\n",
    "    mat_transformPredio0 = multiplica_matriz(mat_translation, mat_transformPredio0)\n",
    "    \n",
    "    cos_d1 = cos(rPredio1)\n",
    "    sin_d1 = sin(rPredio1)\n",
    "    \n",
    "    mat_rotation_x = np.array([     cos_d1, -sin_d1, 0.0, 0, \n",
    "                                    sin_d1,  cos_d1, 0.0, 0, \n",
    "                                    0.0,        0.0, 1.0, 0,\n",
    "                                      0,          0,   0, 1], np.float32)\n",
    "        \n",
    "    mat_translation = np.array([    1.0,  0.0,  0, txPredio1, \n",
    "                                    0.0,  1.0,  0, tyPredio1, \n",
    "                                    0.0,  0.0, 1.0,     0,\n",
    "                                      0,    0,   0,     1], np.float32)\n",
    "    \n",
    "    mat_scale = np.array([          sPredio1,  0.0, 0.0, 0,\n",
    "                                    0.0   ,  sPredio1, 0.0, 0, \n",
    "                                    0.0   ,     0.0,   1, 0,\n",
    "                                         0,       0,   0, 1], np.float32)    \n",
    "    \n",
    "    mat_transformPredio1 = multiplica_matriz(mat_rotation_x, mat_translation)\n",
    "    mat_transformPredio1 = multiplica_matriz(mat_scale, mat_transformPredio1)    \n",
    "    \n",
    "    loc = glGetUniformLocation(program, \"mat_transformation\")\n",
    "    \n",
    "    glUniformMatrix4fv(loc, 1, GL_TRUE, mat_transformPredio0)        \n",
    "    glUniform4f(loc_color, 0.5, 0.3, 0.7, 1.0) \n",
    "    glDrawArrays(GL_TRIANGLES, 144, n_verticesPredioDestruido0)\n",
    "    \n",
    "    glUniformMatrix4fv(loc, 1, GL_TRUE, mat_transformPredio1)        \n",
    "    glUniform4f(loc_color, 0.5, 0.3, 0.7, 1.0) \n",
    "    glDrawArrays(GL_TRIANGLES, 162, n_verticesPredioDestruido1)\n",
    "    \n",
    "    # Chama função que desenha janelas\n",
    "    # Testa se todos os quadrados mágicos foram dissipados, antes de desenhar a criatura\n",
    "    janelaRGB = [0,0,0]\n",
    "    if testeAcabouQuadrado:\n",
    "        janelaRGB = [1,1,0]\n",
    "    DesenhaJanelas(4, mat_transformPredio0, janelaRGB)\n",
    "    \n"
   ]
  },
  {
   "cell_type": "markdown",
   "metadata": {
    "id": "nonpPry0spCM"
   },
   "source": [
    "### Desenha Nuvem\n",
    "Desenha as nuvens na parte superior esquerda da tela"
   ]
  },
  {
   "cell_type": "code",
   "execution_count": 32,
   "metadata": {
    "id": "UtdsQsgHspCM"
   },
   "outputs": [],
   "source": [
    "def DesenhaNuvem():\n",
    "    global n_verticesTotal, n_verticesNuvem\n",
    "    global txNuvem, tyNuvem\n",
    "    global sNuvem\n",
    "    global rNuvem\n",
    "    global testeAcabouQuadrado\n",
    "    \n",
    "    loc = glGetUniformLocation(program, \"mat_transformation\")    \n",
    "    \n",
    "    # Desenha a nuvem mais escura e maior, no fundo\n",
    "    cos_d1 = cos(rNuvem + pi)\n",
    "    sin_d1 = sin(rNuvem + pi)    \n",
    "    \n",
    "    mat_rotation_x = np.array([     cos_d1, -sin_d1, 0.0, 0, \n",
    "                                    sin_d1,  cos_d1, 0.0, 0, \n",
    "                                    0.0,        0.0, 1.0, 0,\n",
    "                                      0,          0,   0, 1], np.float32)\n",
    "        \n",
    "    mat_translation = np.array([    1.0,  0.0,  0, txNuvem-0.2, \n",
    "                                    0.0,  1.0,  0, tyNuvem+0.3, \n",
    "                                    0.0,  0.0, 1.0,     0,\n",
    "                                      0,    0,   0,     1], np.float32)\n",
    "    \n",
    "    mat_scale = np.array([          1.5*sNuvem,  0.0, 0.0, 0,\n",
    "                                    0.0   ,  1.5*sNuvem, 0.0, 0, \n",
    "                                    0.0   ,     0.0,   1, 0,\n",
    "                                         0,       0,   0, 1], np.float32)    \n",
    "    \n",
    "    \n",
    "    \n",
    "    mat_transformNuvem = multiplica_matriz(mat_scale, mat_translationZero)\n",
    "    mat_rotationNuvem = multiplica_matriz(mat_rotation_x, mat_translationZero)\n",
    "    mat_transformNuvem = multiplica_matriz(mat_rotationNuvem, mat_transformNuvem)\n",
    "    mat_transformNuvem = multiplica_matriz(mat_translation, mat_transformNuvem)\n",
    "    \n",
    "    # Testa se todos os quadrados mágicos foram dissipados, antes de desenhar a nuvem maligna\n",
    "    if not testeAcabouQuadrado:\n",
    "        glUniformMatrix4fv(loc, 1, GL_TRUE, mat_transformNuvem)   \n",
    "        glUniform4f(loc_color, 0.3,0.3, 0.3, 1.0)\n",
    "        glDrawArrays(GL_TRIANGLE_FAN, 201, n_verticesNuvem)\n",
    "        \n",
    "        \n",
    "    # Desenha a nuvem meio escura e média, no meio das outras duas nuvens\n",
    "    cos_d1 = cos(rNuvem+pi/15)\n",
    "    sin_d1 = sin(rNuvem+pi/15)    \n",
    "    \n",
    "    mat_rotation_x = np.array([     cos_d1, -sin_d1, 0.0, 0, \n",
    "                                    sin_d1,  cos_d1, 0.0, 0, \n",
    "                                    0.0,        0.0, 1.0, 0,\n",
    "                                      0,          0,   0, 1], np.float32)\n",
    "        \n",
    "    mat_translation = np.array([    1.0,  0.0,  0, txNuvem-0.4, \n",
    "                                    0.0,  1.0,  0, tyNuvem, \n",
    "                                    0.0,  0.0, 1.0,     0,\n",
    "                                      0,    0,   0,     1], np.float32)\n",
    "    \n",
    "    mat_scale = np.array([          1.2*sNuvem,  0.0, 0.0, 0,\n",
    "                                    0.0   ,  1.2*sNuvem, 0.0, 0, \n",
    "                                    0.0   ,     0.0,   1, 0,\n",
    "                                         0,       0,   0, 1], np.float32)    \n",
    "    \n",
    "    \n",
    "    \n",
    "    mat_transformNuvem = multiplica_matriz(mat_scale, mat_translationZero)\n",
    "    mat_rotationNuvem = multiplica_matriz(mat_rotation_x, mat_translationZero)\n",
    "    mat_transformNuvem = multiplica_matriz(mat_rotationNuvem, mat_transformNuvem)\n",
    "    mat_transformNuvem = multiplica_matriz(mat_translation, mat_transformNuvem)\n",
    "    \n",
    "    # Testa se todos os quadrados mágicos foram dissipados, antes de desenhar a criatura\n",
    "    if not testeAcabouQuadrado:\n",
    "        glUniformMatrix4fv(loc, 1, GL_TRUE, mat_transformNuvem)   \n",
    "        glUniform4f(loc_color, 0.45, 0.45, 0.45, 1.0)\n",
    "        glDrawArrays(GL_TRIANGLE_FAN, 201, n_verticesNuvem)    \n",
    "    \n",
    "    # Desenha a nuvem mais clara, na frente das outras duas núvens\n",
    "    cos_d1 = cos(rNuvem)\n",
    "    sin_d1 = sin(rNuvem)    \n",
    "    \n",
    "    mat_rotation_x = np.array([     cos_d1, -sin_d1, 0.0, 0, \n",
    "                                    sin_d1,  cos_d1, 0.0, 0, \n",
    "                                    0.0,        0.0, 1.0, 0,\n",
    "                                      0,          0,   0, 1], np.float32)\n",
    "        \n",
    "    mat_translation = np.array([    1.0,  0.0,  0, txNuvem, \n",
    "                                    0.0,  1.0,  0, tyNuvem, \n",
    "                                    0.0,  0.0, 1.0,     0,\n",
    "                                      0,    0,   0,     1], np.float32)\n",
    "    \n",
    "    mat_scale = np.array([          sNuvem,  0.0, 0.0, 0,\n",
    "                                    0.0   ,  sNuvem, 0.0, 0, \n",
    "                                    0.0   ,     0.0,   1, 0,\n",
    "                                         0,       0,   0, 1], np.float32)    \n",
    "    \n",
    "    mat_transformNuvem = multiplica_matriz(mat_scale, mat_translationZero)\n",
    "    mat_rotationNuvem = multiplica_matriz(mat_rotation_x, mat_translationZero)\n",
    "    mat_transformNuvem = multiplica_matriz(mat_rotationNuvem, mat_transformNuvem)\n",
    "    mat_transformNuvem = multiplica_matriz(mat_translation, mat_transformNuvem)    \n",
    "    \n",
    "    glUniformMatrix4fv(loc, 1, GL_TRUE, mat_transformNuvem)    \n",
    "    glUniform4f(loc_color, 0.6, 0.6, 0.6, 1.0)\n",
    "    glDrawArrays(GL_TRIANGLE_FAN, 201, n_verticesNuvem)\n",
    "    \n",
    "    "
   ]
  },
  {
   "cell_type": "markdown",
   "metadata": {
    "id": "g0fvZkLLspCN"
   },
   "source": [
    "### Desenha Roda\n",
    "Desenha a roda gigante que o mago precisa diminuir e botar no canto.\n",
    "\n",
    "Obs: O motivo de o objeto não possuir apenas uma matriz de transformação foi por conta da Roda\n",
    "possuir três círculos, e por isso foram utilizados os vértices da cabeça do mago, com escalas diferentes. <br> Na hora de diminuir e aumentar a escala de cada círculo, um incremento de escala diferente é utilizado para cada círculo (de 10% da escala original). <br>\n",
    "As matrizes de translação e rotação são as mesmas para as figuras.\n"
   ]
  },
  {
   "cell_type": "code",
   "execution_count": 33,
   "metadata": {
    "id": "zTRkGx4HspCN"
   },
   "outputs": [],
   "source": [
    "def DesenhaRoda():\n",
    "    global num_v, n_verticesCabecaMago\n",
    "    global txRoda0, tyRoda0\n",
    "    global sRoda0, sRoda1, sRoda2, sRoda3\n",
    "    global rRoda0\n",
    "    \n",
    "    # Matriz de transformação da borracha da roda\n",
    "    cos_d1 = cos(rRoda0)\n",
    "    sin_d1 = sin(rRoda0)\n",
    "    \n",
    "    mat_rotation_x = np.array([     cos_d1, -sin_d1, 0.0, 0, \n",
    "                                    sin_d1,  cos_d1, 0.0, 0, \n",
    "                                    0.0,        0.0, 1.0, 0,\n",
    "                                      0,          0,   0, 1], np.float32)\n",
    "        \n",
    "    mat_translation = np.array([    1.0,  0.0,   0, txRoda0, \n",
    "                                    0.0,  1.0,   0, tyRoda0, \n",
    "                                    0.0,  0.0, 1.0,       0,\n",
    "                                      0,    0,   0,       1], np.float32)\n",
    "    \n",
    "    mat_scale = np.array([          sRoda0,     0.0, 0.0, 0,\n",
    "                                    0.0   ,  sRoda0, 0.0, 0, \n",
    "                                    0.0   ,     0.0,   1, 0,\n",
    "                                         0,       0,   0, 1], np.float32)\n",
    "    \n",
    "    mat_transformRoda0 = multiplica_matriz(mat_scale, mat_translationZero)\n",
    "    mat_rotationRoda0 = multiplica_matriz(mat_rotation_x, mat_translationZero)  \n",
    "    mat_transformRoda0 = multiplica_matriz(mat_rotationRoda0, mat_transformRoda0)\n",
    "    mat_transformRoda0 = multiplica_matriz(mat_translation, mat_transformRoda0)\n",
    "    \n",
    "    # Matriz de transformação do aro da roda\n",
    "    mat_scale = np.array([          sRoda1,     0.0, 0.0, 0,\n",
    "                                    0.0   ,  sRoda1, 0.0, 0, \n",
    "                                    0.0   ,     0.0,   1, 0,\n",
    "                                         0,       0,   0, 1], np.float32)\n",
    "    \n",
    "    \n",
    "    mat_transformRoda1 = multiplica_matriz(mat_scale, mat_translationZero)\n",
    "    mat_rotationRoda1 = multiplica_matriz(mat_rotation_x, mat_translationZero)    \n",
    "    mat_transformRoda1 = multiplica_matriz(mat_rotationRoda0, mat_transformRoda1)\n",
    "    mat_transformRoda1 = multiplica_matriz(mat_translation, mat_transformRoda1)\n",
    "    \n",
    "    # Matriz de transformação dos triângulos da roda\n",
    "    mat_scale = np.array([          sRoda2,     0.0, 0.0, 0,\n",
    "                                    0.0   ,  sRoda2, 0.0, 0, \n",
    "                                    0.0   ,     0.0,   1, 0,\n",
    "                                         0,       0,   0, 1], np.float32)\n",
    "    \n",
    "    \n",
    "    mat_transformRoda2 = multiplica_matriz(mat_scale, mat_translationZero)\n",
    "    mat_rotationRoda2 = multiplica_matriz(mat_rotation_x, mat_translationZero)    \n",
    "    mat_transformRoda2 = multiplica_matriz(mat_rotationRoda0, mat_transformRoda2)\n",
    "    mat_transformRoda2 = multiplica_matriz(mat_translation, mat_transformRoda2)\n",
    "    \n",
    "    # Matriz de transformação do círculo no centro da roda\n",
    "    mat_scale = np.array([          sRoda3,     0.0, 0.0, 0,\n",
    "                                    0.0   ,  sRoda3, 0.0, 0, \n",
    "                                    0.0   ,     0.0,   1, 0,\n",
    "                                         0,       0,   0, 1], np.float32)\n",
    "    \n",
    "    \n",
    "    mat_transformRoda3 = multiplica_matriz(mat_scale, mat_translationZero)\n",
    "    mat_rotationRoda3 = multiplica_matriz(mat_rotation_x, mat_translationZero)  \n",
    "    mat_transformRoda3 = multiplica_matriz(mat_rotationRoda0, mat_transformRoda3)\n",
    "    mat_transformRoda3 = multiplica_matriz(mat_translation, mat_transformRoda3)\n",
    "    \n",
    "    loc = glGetUniformLocation(program, \"mat_transformation\")    \n",
    "    \n",
    "    # Desenha a borracha da roda\n",
    "    glUniformMatrix4fv(loc, 1, GL_TRUE, mat_transformRoda0)    \n",
    "    glUniform4f(loc_color, 0.0, 0.1, 0.2, 1.0) \n",
    "    glDrawArrays(GL_TRIANGLE_FAN, num_v, n_verticesCabecaMago)\n",
    "    \n",
    "    # Desenha o aro da roda\n",
    "    glUniformMatrix4fv(loc, 1, GL_TRUE, mat_transformRoda1) \n",
    "    glUniform4f(loc_color, 1,1,1, 1.0) \n",
    "    glDrawArrays(GL_TRIANGLE_FAN, num_v, n_verticesCabecaMago)\n",
    "    \n",
    "    # Desenha os triângulos escuros da roda\n",
    "    glUniformMatrix4fv(loc, 1, GL_TRUE, mat_transformRoda2) \n",
    "    glUniform4f(loc_color, 0,0,0, 1.0) \n",
    "    glDrawArrays(GL_TRIANGLES, 0, 15)\n",
    "    \n",
    "    # Desenha o círculo escuro no centro da roda\n",
    "    glUniformMatrix4fv(loc, 1, GL_TRUE, mat_transformRoda3) \n",
    "    glUniform4f(loc_color, 0,0,0, 1.0) \n",
    "    glDrawArrays(GL_TRIANGLE_FAN, num_v, n_verticesCabecaMago)\n",
    "    \n",
    "    \n",
    "    "
   ]
  },
  {
   "cell_type": "markdown",
   "metadata": {
    "id": "7gTrB_hGspCO"
   },
   "source": [
    "### Desenha o cenário imóvel"
   ]
  },
  {
   "cell_type": "code",
   "execution_count": 34,
   "metadata": {
    "id": "sy282dqfspCO"
   },
   "outputs": [],
   "source": [
    "def DesenhaCenarioImovel():\n",
    "    global testeAcabouQuadrado\n",
    "    mat_transform = np.array([    1.0,  0.0, 0, 0,\n",
    "                                    0.0,  1.0, 0, 0,\n",
    "                                    0.0,  0.0, 1.0 ,0,\n",
    "                                     0, 0, 0, 1], np.float32)\n",
    "    \n",
    "    loc = glGetUniformLocation(program, \"mat_transformation\")\n",
    "    glUniformMatrix4fv(loc, 1, GL_TRUE, mat_transform)    \n",
    "    \n",
    "    # Desenha o background de cor azul claro\n",
    "    glUniform4f(loc_color, 0.1, 0.4, 1, 1.0) \n",
    "    glDrawArrays(GL_TRIANGLE_STRIP, 20, 4)\n",
    "    \n",
    "    \n",
    "    #Desenha o prédio mais a direita no cenário\n",
    "    glUniform4f(loc_color, 0.7, 0.5, 0.5, 1.0) \n",
    "    glDrawArrays(GL_TRIANGLE_STRIP, 28, 4)\n",
    "    \n",
    "    \n",
    "    #Desenha as janelas do prédio mais a direita\n",
    "    janelaRGB = [0,0,0]\n",
    "    if testeAcabouQuadrado:\n",
    "        janelaRGB = [1,1,0.2]\n",
    "        \n",
    "    mat_translationWindow = np.array([    1.0,  0.0,   0,  .7, \n",
    "                                          0.0,  1.0,   0, 0.05, \n",
    "                                          0.0,  0.0, 1.0,   0,\n",
    "                                            0,    0,   0,   1], np.float32)\n",
    "    \n",
    "    DesenhaJanelas(10, mat_translationWindow, janelaRGB)    "
   ]
  },
  {
   "cell_type": "markdown",
   "metadata": {
    "id": "ZjGoyRaTspCO"
   },
   "source": [
    "### Loop principal da janela\n",
    "Enquanto a janela não for fechada, o laço será executado. Onde se trabalha algumas interações com a OpenGL\n",
    "A função glDrawArrays() recebe o tipo de primitiva (GL_POINTS), o índice inicial do array de vértices e a quantidade de vértices (len(vertices))"
   ]
  },
  {
   "cell_type": "code",
   "execution_count": null,
   "metadata": {
    "id": "YAPpLG8gspCO",
    "outputId": "c2bba200-af11-44c6-f581-ad9a7a564ab6"
   },
   "outputs": [
    {
     "name": "stdout",
     "output_type": "stream",
     "text": [
      "\n",
      "[key event] key= 340\n",
      "[key event] scancode= 42\n",
      "[key event] action= 1\n",
      "[key event] mods= 1\n",
      "-------\n",
      "[key event] key= 340\n",
      "[key event] scancode= 42\n",
      "[key event] action= 0\n",
      "[key event] mods= 0\n",
      "-------\n",
      "[key event] key= 32\n",
      "[key event] scancode= 57\n",
      "[key event] action= 1\n",
      "[key event] mods= 0\n",
      "-------\n",
      "[key event] key= 32\n",
      "[key event] scancode= 57\n",
      "[key event] action= 0\n",
      "[key event] mods= 0\n",
      "-------\n",
      "[key event] key= 340\n",
      "[key event] scancode= 42\n",
      "[key event] action= 1\n",
      "[key event] mods= 1\n",
      "-------\n",
      "[key event] key= 340\n",
      "[key event] scancode= 42\n",
      "[key event] action= 0\n",
      "[key event] mods= 0\n",
      "-------\n",
      "[key event] key= 32\n",
      "[key event] scancode= 57\n",
      "[key event] action= 1\n",
      "[key event] mods= 0\n",
      "-------\n",
      "[key event] key= 32\n",
      "[key event] scancode= 57\n",
      "[key event] action= 0\n",
      "[key event] mods= 0\n",
      "-------\n",
      "[key event] key= 32\n",
      "[key event] scancode= 57\n",
      "[key event] action= 1\n",
      "[key event] mods= 0\n",
      "-------\n",
      "[key event] key= 32\n",
      "[key event] scancode= 57\n",
      "[key event] action= 0\n",
      "[key event] mods= 0\n",
      "-------\n",
      "[key event] key= 32\n",
      "[key event] scancode= 57\n",
      "[key event] action= 1\n",
      "[key event] mods= 0\n",
      "-------\n",
      "[key event] key= 32\n",
      "[key event] scancode= 57\n",
      "[key event] action= 2\n",
      "[key event] mods= 0\n",
      "-------\n",
      "[key event] key= 32\n",
      "[key event] scancode= 57\n",
      "[key event] action= 2\n",
      "[key event] mods= 0\n",
      "-------\n",
      "[key event] key= 32\n",
      "[key event] scancode= 57\n",
      "[key event] action= 2\n",
      "[key event] mods= 0\n",
      "-------\n",
      "[key event] key= 32\n",
      "[key event] scancode= 57\n",
      "[key event] action= 2\n",
      "[key event] mods= 0\n",
      "-------\n",
      "[key event] key= 32\n",
      "[key event] scancode= 57\n",
      "[key event] action= 2\n",
      "[key event] mods= 0\n",
      "-------\n",
      "[key event] key= 32\n",
      "[key event] scancode= 57\n",
      "[key event] action= 2\n",
      "[key event] mods= 0\n",
      "-------\n",
      "[key event] key= 32\n",
      "[key event] scancode= 57\n",
      "[key event] action= 2\n",
      "[key event] mods= 0\n",
      "-------\n",
      "[key event] key= 32\n",
      "[key event] scancode= 57\n",
      "[key event] action= 2\n",
      "[key event] mods= 0\n",
      "-------\n",
      "[key event] key= 32\n",
      "[key event] scancode= 57\n",
      "[key event] action= 2\n",
      "[key event] mods= 0\n",
      "-------\n",
      "[key event] key= 32\n",
      "[key event] scancode= 57\n",
      "[key event] action= 2\n",
      "[key event] mods= 0\n",
      "-------\n",
      "[key event] key= 32\n",
      "[key event] scancode= 57\n",
      "[key event] action= 2\n",
      "[key event] mods= 0\n",
      "-------\n",
      "[key event] key= 32\n",
      "[key event] scancode= 57\n",
      "[key event] action= 2\n",
      "[key event] mods= 0\n",
      "-------\n",
      "[key event] key= 32\n",
      "[key event] scancode= 57\n",
      "[key event] action= 0\n",
      "[key event] mods= 0\n",
      "-------\n",
      "[key event] key= 68\n",
      "[key event] scancode= 32\n",
      "[key event] action= 1\n",
      "[key event] mods= 0\n",
      "-------\n",
      "[key event] key= 68\n",
      "[key event] scancode= 32\n",
      "[key event] action= 0\n",
      "[key event] mods= 0\n",
      "-------\n"
     ]
    }
   ],
   "source": [
    "glEnable(GL_COLOR_MATERIAL)\n",
    "\n",
    "while not glfw.window_should_close(window):\n",
    "    \n",
    "    # funcao interna do glfw para gerenciar eventos de mouse, teclado, etc\n",
    "    glfw.poll_events() \n",
    "\n",
    "    # limpa a cor de fundo da janela e preenche com outra no sistema RGBA\n",
    "    glClear(GL_COLOR_BUFFER_BIT) \n",
    "    \n",
    "    # definindo a cor da janela  \n",
    "    glClearColor(0, 0, 0, 0)\n",
    "    \n",
    "    # seta a matriz de translação inicial\n",
    "    mat_transform = np.array([  1.0,  0.0,   0, 0,\n",
    "                                0.0,  1.0,   0, 0,\n",
    "                                0.0,  0.0, 1.0, 0,\n",
    "                                  0,    0,   0, 1], np.float32)\n",
    "    loc = glGetUniformLocation(program, \"mat_transformation\")\n",
    "    glUniformMatrix4fv(loc, 1, GL_TRUE, mat_transform)\n",
    "    \n",
    "    # Chama a função de desenha o background (céu + prédio à direita imóvel)\n",
    "    DesenhaCenarioImovel()\n",
    "    \n",
    "    # Desenha o Sol\n",
    "    DesenhaSol()\n",
    "    \n",
    "    # Desenha a Rua (imóvel)\n",
    "    DesenhaRua()\n",
    "            \n",
    "    # Desenha a núvem\n",
    "    DesenhaNuvem()\n",
    "    \n",
    "    # Desenha o prédio destruído\n",
    "    DesenhaPredioDestruido()\n",
    "\n",
    "    # Desenha os quadrados mágicos\n",
    "    DesenhaQuadradoMagico()\n",
    "    \n",
    "    # Desenha a roda\n",
    "    DesenhaRoda()\n",
    "    \n",
    "    # Desenha o mago na tela\n",
    "    DesenhaMago()\n",
    "    \n",
    "    # gerencia troca de dados entre janela e o OpenGL\n",
    "    glfw.swap_buffers(window)\n",
    "\n",
    "glfw.terminate()"
   ]
  },
  {
   "cell_type": "code",
   "execution_count": null,
   "metadata": {},
   "outputs": [],
   "source": []
  }
 ],
 "metadata": {
  "colab": {
   "collapsed_sections": [
    "wvj-vhg_spB5",
    "s6dVG8NxspB7",
    "Ct-wWsj6spB8",
    "gkuqes3bspB8",
    "G4PdMeikspB9",
    "2J5lPn2FspB9",
    "wOQYxQOWspB-",
    "JFvDWGdvspB_",
    "cXLkEqUMspB_",
    "6lZF7LgAspCB",
    "Tgo9Q8erspCB",
    "ikVIUkc5spCC",
    "HE8xUtxIspCF",
    "Sygb-lqvspCF",
    "2Qfnl9DBspCH",
    "oGMAUpuGspCI",
    "liMhOO5KspCJ",
    "52-AmCAyspCK",
    "dTNZclBuspCK",
    "F08P6p97spCK",
    "nonpPry0spCM",
    "g0fvZkLLspCN",
    "7gTrB_hGspCO",
    "ZjGoyRaTspCO"
   ],
   "name": "Projeto1.ipynb",
   "provenance": []
  },
  "kernelspec": {
   "display_name": "Python 3 (ipykernel)",
   "language": "python",
   "name": "python3"
  },
  "language_info": {
   "codemirror_mode": {
    "name": "ipython",
    "version": 3
   },
   "file_extension": ".py",
   "mimetype": "text/x-python",
   "name": "python",
   "nbconvert_exporter": "python",
   "pygments_lexer": "ipython3",
   "version": "3.9.7"
  }
 },
 "nbformat": 4,
 "nbformat_minor": 1
}
